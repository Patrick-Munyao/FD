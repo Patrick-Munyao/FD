{
 "cells": [
  {
   "cell_type": "markdown",
   "id": "c9b73c8c",
   "metadata": {},
   "source": [
    "### Install and Connect to Oracledb"
   ]
  },
  {
   "cell_type": "code",
   "execution_count": 1,
   "id": "0ce6236d",
   "metadata": {},
   "outputs": [
    {
     "name": "stdout",
     "output_type": "stream",
     "text": [
      "Requirement already satisfied: oracledb in c:\\users\\pmmunyao\\appdata\\local\\anaconda3\\lib\\site-packages (2.0.1)\n",
      "Requirement already satisfied: cryptography>=3.2.1 in c:\\users\\pmmunyao\\appdata\\local\\anaconda3\\lib\\site-packages (from oracledb) (41.0.2)\n",
      "Requirement already satisfied: cffi>=1.12 in c:\\users\\pmmunyao\\appdata\\local\\anaconda3\\lib\\site-packages (from cryptography>=3.2.1->oracledb) (1.15.1)\n",
      "Requirement already satisfied: pycparser in c:\\users\\pmmunyao\\appdata\\local\\anaconda3\\lib\\site-packages (from cffi>=1.12->cryptography>=3.2.1->oracledb) (2.21)\n",
      "Requirement already satisfied: oracledb in c:\\users\\pmmunyao\\appdata\\local\\anaconda3\\lib\\site-packages (2.0.1)\n",
      "Requirement already satisfied: cryptography>=3.2.1 in c:\\users\\pmmunyao\\appdata\\local\\anaconda3\\lib\\site-packages (from oracledb) (41.0.2)\n",
      "Requirement already satisfied: cffi>=1.12 in c:\\users\\pmmunyao\\appdata\\local\\anaconda3\\lib\\site-packages (from cryptography>=3.2.1->oracledb) (1.15.1)\n",
      "Requirement already satisfied: pycparser in c:\\users\\pmmunyao\\appdata\\local\\anaconda3\\lib\\site-packages (from cffi>=1.12->cryptography>=3.2.1->oracledb) (2.21)\n"
     ]
    }
   ],
   "source": [
    "# Install Oracledb\n",
    "\n",
    "import oracledb as orc\n",
    "\n",
    "!pip install oracledb\n",
    "\n",
    "# Add to trusted files\n",
    "\n",
    "!pip install --trusted-host pypi.org --trusted-host files.pythonhosted.org oracledb"
   ]
  },
  {
   "cell_type": "code",
   "execution_count": 2,
   "id": "00d9ddb8",
   "metadata": {},
   "outputs": [
    {
     "name": "stdout",
     "output_type": "stream",
     "text": [
      "Requirement already satisfied: pip in c:\\users\\pmmunyao\\appdata\\local\\anaconda3\\lib\\site-packages (23.2.1)\n",
      "Could not fetch URL https://pypi.org/simple/pip/: There was a problem confirming the ssl certificate: HTTPSConnectionPool(host='pypi.org', port=443): Max retries exceeded with url: /simple/pip/ (Caused by SSLError(SSLCertVerificationError(1, '[SSL: CERTIFICATE_VERIFY_FAILED] certificate verify failed: self signed certificate in certificate chain (_ssl.c:1002)'))) - skipping\n"
     ]
    },
    {
     "name": "stderr",
     "output_type": "stream",
     "text": [
      "WARNING: Retrying (Retry(total=4, connect=None, read=None, redirect=None, status=None)) after connection broken by 'SSLError(SSLCertVerificationError(1, '[SSL: CERTIFICATE_VERIFY_FAILED] certificate verify failed: self signed certificate in certificate chain (_ssl.c:1002)'))': /simple/pip/\n",
      "WARNING: Retrying (Retry(total=3, connect=None, read=None, redirect=None, status=None)) after connection broken by 'SSLError(SSLCertVerificationError(1, '[SSL: CERTIFICATE_VERIFY_FAILED] certificate verify failed: self signed certificate in certificate chain (_ssl.c:1002)'))': /simple/pip/\n",
      "WARNING: Retrying (Retry(total=2, connect=None, read=None, redirect=None, status=None)) after connection broken by 'SSLError(SSLCertVerificationError(1, '[SSL: CERTIFICATE_VERIFY_FAILED] certificate verify failed: self signed certificate in certificate chain (_ssl.c:1002)'))': /simple/pip/\n",
      "WARNING: Retrying (Retry(total=1, connect=None, read=None, redirect=None, status=None)) after connection broken by 'SSLError(SSLCertVerificationError(1, '[SSL: CERTIFICATE_VERIFY_FAILED] certificate verify failed: self signed certificate in certificate chain (_ssl.c:1002)'))': /simple/pip/\n",
      "WARNING: Retrying (Retry(total=0, connect=None, read=None, redirect=None, status=None)) after connection broken by 'SSLError(SSLCertVerificationError(1, '[SSL: CERTIFICATE_VERIFY_FAILED] certificate verify failed: self signed certificate in certificate chain (_ssl.c:1002)'))': /simple/pip/\n"
     ]
    },
    {
     "name": "stdout",
     "output_type": "stream",
     "text": [
      "Requirement already satisfied: pip in c:\\users\\pmmunyao\\appdata\\local\\anaconda3\\lib\\site-packages (23.2.1)\n",
      "Requirement already satisfied: openpyxl in c:\\users\\pmmunyao\\appdata\\local\\anaconda3\\lib\\site-packages (3.1.5)\n",
      "Could not fetch URL https://pypi.org/simple/openpyxl/: There was a problem confirming the ssl certificate: HTTPSConnectionPool(host='pypi.org', port=443): Max retries exceeded with url: /simple/openpyxl/ (Caused by SSLError(SSLCertVerificationError(1, '[SSL: CERTIFICATE_VERIFY_FAILED] certificate verify failed: self signed certificate in certificate chain (_ssl.c:1002)'))) - skipping\n",
      "Requirement already satisfied: et-xmlfile in c:\\users\\pmmunyao\\appdata\\local\\anaconda3\\lib\\site-packages (from openpyxl) (1.1.0)\n"
     ]
    },
    {
     "name": "stderr",
     "output_type": "stream",
     "text": [
      "WARNING: Retrying (Retry(total=4, connect=None, read=None, redirect=None, status=None)) after connection broken by 'SSLError(SSLCertVerificationError(1, '[SSL: CERTIFICATE_VERIFY_FAILED] certificate verify failed: self signed certificate in certificate chain (_ssl.c:1002)'))': /simple/openpyxl/\n",
      "WARNING: Retrying (Retry(total=3, connect=None, read=None, redirect=None, status=None)) after connection broken by 'SSLError(SSLCertVerificationError(1, '[SSL: CERTIFICATE_VERIFY_FAILED] certificate verify failed: self signed certificate in certificate chain (_ssl.c:1002)'))': /simple/openpyxl/\n",
      "WARNING: Retrying (Retry(total=2, connect=None, read=None, redirect=None, status=None)) after connection broken by 'SSLError(SSLCertVerificationError(1, '[SSL: CERTIFICATE_VERIFY_FAILED] certificate verify failed: self signed certificate in certificate chain (_ssl.c:1002)'))': /simple/openpyxl/\n",
      "WARNING: Retrying (Retry(total=1, connect=None, read=None, redirect=None, status=None)) after connection broken by 'SSLError(SSLCertVerificationError(1, '[SSL: CERTIFICATE_VERIFY_FAILED] certificate verify failed: self signed certificate in certificate chain (_ssl.c:1002)'))': /simple/openpyxl/\n",
      "WARNING: Retrying (Retry(total=0, connect=None, read=None, redirect=None, status=None)) after connection broken by 'SSLError(SSLCertVerificationError(1, '[SSL: CERTIFICATE_VERIFY_FAILED] certificate verify failed: self signed certificate in certificate chain (_ssl.c:1002)'))': /simple/openpyxl/\n"
     ]
    },
    {
     "name": "stdout",
     "output_type": "stream",
     "text": [
      "Requirement already satisfied: openpyxl in c:\\users\\pmmunyao\\appdata\\local\\anaconda3\\lib\\site-packages (3.1.5)\n",
      "Requirement already satisfied: et-xmlfile in c:\\users\\pmmunyao\\appdata\\local\\anaconda3\\lib\\site-packages (from openpyxl) (1.1.0)\n",
      "Name: openpyxl\n",
      "Version: 3.1.5\n",
      "Summary: A Python library to read/write Excel 2010 xlsx/xlsm files\n",
      "Home-page: https://openpyxl.readthedocs.io\n",
      "Author: See AUTHORS\n",
      "Author-email: charlie.clark@clark-consulting.eu\n",
      "License: MIT\n",
      "Location: C:\\Users\\PMMUNYAO\\AppData\\Local\\anaconda3\\Lib\\site-packages\n",
      "Requires: et-xmlfile\n",
      "Required-by: \n",
      "Requirement already satisfied: bottleneck in c:\\users\\pmmunyao\\appdata\\local\\anaconda3\\lib\\site-packages (1.4.0)\n",
      "Could not fetch URL https://pypi.org/simple/bottleneck/: There was a problem confirming the ssl certificate: HTTPSConnectionPool(host='pypi.org', port=443): Max retries exceeded with url: /simple/bottleneck/ (Caused by SSLError(SSLCertVerificationError(1, '[SSL: CERTIFICATE_VERIFY_FAILED] certificate verify failed: self signed certificate in certificate chain (_ssl.c:1002)'))) - skipping\n",
      "Requirement already satisfied: numpy in c:\\users\\pmmunyao\\appdata\\local\\anaconda3\\lib\\site-packages (from bottleneck) (1.24.3)\n"
     ]
    },
    {
     "name": "stderr",
     "output_type": "stream",
     "text": [
      "WARNING: Retrying (Retry(total=4, connect=None, read=None, redirect=None, status=None)) after connection broken by 'SSLError(SSLCertVerificationError(1, '[SSL: CERTIFICATE_VERIFY_FAILED] certificate verify failed: self signed certificate in certificate chain (_ssl.c:1002)'))': /simple/bottleneck/\n",
      "WARNING: Retrying (Retry(total=3, connect=None, read=None, redirect=None, status=None)) after connection broken by 'SSLError(SSLCertVerificationError(1, '[SSL: CERTIFICATE_VERIFY_FAILED] certificate verify failed: self signed certificate in certificate chain (_ssl.c:1002)'))': /simple/bottleneck/\n",
      "WARNING: Retrying (Retry(total=2, connect=None, read=None, redirect=None, status=None)) after connection broken by 'SSLError(SSLCertVerificationError(1, '[SSL: CERTIFICATE_VERIFY_FAILED] certificate verify failed: self signed certificate in certificate chain (_ssl.c:1002)'))': /simple/bottleneck/\n",
      "WARNING: Retrying (Retry(total=1, connect=None, read=None, redirect=None, status=None)) after connection broken by 'SSLError(SSLCertVerificationError(1, '[SSL: CERTIFICATE_VERIFY_FAILED] certificate verify failed: self signed certificate in certificate chain (_ssl.c:1002)'))': /simple/bottleneck/\n",
      "WARNING: Retrying (Retry(total=0, connect=None, read=None, redirect=None, status=None)) after connection broken by 'SSLError(SSLCertVerificationError(1, '[SSL: CERTIFICATE_VERIFY_FAILED] certificate verify failed: self signed certificate in certificate chain (_ssl.c:1002)'))': /simple/bottleneck/\n"
     ]
    },
    {
     "name": "stdout",
     "output_type": "stream",
     "text": [
      "Requirement already satisfied: bottleneck in c:\\users\\pmmunyao\\appdata\\local\\anaconda3\\lib\\site-packages (1.4.0)\n",
      "Requirement already satisfied: numpy in c:\\users\\pmmunyao\\appdata\\local\\anaconda3\\lib\\site-packages (from bottleneck) (1.24.3)\n",
      "Requirement already satisfied: scikit-learn in c:\\users\\pmmunyao\\appdata\\local\\anaconda3\\lib\\site-packages (1.2.2)\n",
      "Could not fetch URL https://pypi.org/simple/scikit-learn/: There was a problem confirming the ssl certificate: HTTPSConnectionPool(host='pypi.org', port=443): Max retries exceeded with url: /simple/scikit-learn/ (Caused by SSLError(SSLCertVerificationError(1, '[SSL: CERTIFICATE_VERIFY_FAILED] certificate verify failed: self signed certificate in certificate chain (_ssl.c:1002)'))) - skipping\n",
      "Requirement already satisfied: numpy>=1.17.3 in c:\\users\\pmmunyao\\appdata\\local\\anaconda3\\lib\\site-packages (from scikit-learn) (1.24.3)\n",
      "Requirement already satisfied: scipy>=1.3.2 in c:\\users\\pmmunyao\\appdata\\local\\anaconda3\\lib\\site-packages (from scikit-learn) (1.10.1)\n",
      "Requirement already satisfied: joblib>=1.1.1 in c:\\users\\pmmunyao\\appdata\\local\\anaconda3\\lib\\site-packages (from scikit-learn) (1.2.0)\n",
      "Requirement already satisfied: threadpoolctl>=2.0.0 in c:\\users\\pmmunyao\\appdata\\local\\anaconda3\\lib\\site-packages (from scikit-learn) (3.5.0)\n"
     ]
    },
    {
     "name": "stderr",
     "output_type": "stream",
     "text": [
      "WARNING: Retrying (Retry(total=4, connect=None, read=None, redirect=None, status=None)) after connection broken by 'SSLError(SSLCertVerificationError(1, '[SSL: CERTIFICATE_VERIFY_FAILED] certificate verify failed: self signed certificate in certificate chain (_ssl.c:1002)'))': /simple/scikit-learn/\n",
      "WARNING: Retrying (Retry(total=3, connect=None, read=None, redirect=None, status=None)) after connection broken by 'SSLError(SSLCertVerificationError(1, '[SSL: CERTIFICATE_VERIFY_FAILED] certificate verify failed: self signed certificate in certificate chain (_ssl.c:1002)'))': /simple/scikit-learn/\n",
      "WARNING: Retrying (Retry(total=2, connect=None, read=None, redirect=None, status=None)) after connection broken by 'SSLError(SSLCertVerificationError(1, '[SSL: CERTIFICATE_VERIFY_FAILED] certificate verify failed: self signed certificate in certificate chain (_ssl.c:1002)'))': /simple/scikit-learn/\n",
      "WARNING: Retrying (Retry(total=1, connect=None, read=None, redirect=None, status=None)) after connection broken by 'SSLError(SSLCertVerificationError(1, '[SSL: CERTIFICATE_VERIFY_FAILED] certificate verify failed: self signed certificate in certificate chain (_ssl.c:1002)'))': /simple/scikit-learn/\n",
      "WARNING: Retrying (Retry(total=0, connect=None, read=None, redirect=None, status=None)) after connection broken by 'SSLError(SSLCertVerificationError(1, '[SSL: CERTIFICATE_VERIFY_FAILED] certificate verify failed: self signed certificate in certificate chain (_ssl.c:1002)'))': /simple/scikit-learn/\n"
     ]
    },
    {
     "name": "stdout",
     "output_type": "stream",
     "text": [
      "Requirement already satisfied: scikit-learn in c:\\users\\pmmunyao\\appdata\\local\\anaconda3\\lib\\site-packages (1.2.2)\n",
      "Collecting scikit-learn\n",
      "  Obtaining dependency information for scikit-learn from https://files.pythonhosted.org/packages/17/1c/ccdd103cfcc9435a18819856fbbe0c20b8fa60bfc3343580de4be13f0668/scikit_learn-1.5.2-cp311-cp311-win_amd64.whl.metadata\n",
      "  Using cached scikit_learn-1.5.2-cp311-cp311-win_amd64.whl.metadata (13 kB)\n",
      "Requirement already satisfied: numpy>=1.19.5 in c:\\users\\pmmunyao\\appdata\\local\\anaconda3\\lib\\site-packages (from scikit-learn) (1.24.3)\n",
      "Requirement already satisfied: scipy>=1.6.0 in c:\\users\\pmmunyao\\appdata\\local\\anaconda3\\lib\\site-packages (from scikit-learn) (1.10.1)\n",
      "Requirement already satisfied: joblib>=1.2.0 in c:\\users\\pmmunyao\\appdata\\local\\anaconda3\\lib\\site-packages (from scikit-learn) (1.2.0)\n",
      "Requirement already satisfied: threadpoolctl>=3.1.0 in c:\\users\\pmmunyao\\appdata\\local\\anaconda3\\lib\\site-packages (from scikit-learn) (3.5.0)\n",
      "Using cached scikit_learn-1.5.2-cp311-cp311-win_amd64.whl (11.0 MB)\n",
      "Installing collected packages: scikit-learn\n",
      "  Attempting uninstall: scikit-learn\n",
      "    Found existing installation: scikit-learn 1.2.2\n",
      "    Uninstalling scikit-learn-1.2.2:\n",
      "      Successfully uninstalled scikit-learn-1.2.2\n",
      "Successfully installed scikit-learn-1.5.2\n",
      "Requirement already satisfied: imblearn in c:\\users\\pmmunyao\\appdata\\local\\anaconda3\\lib\\site-packages (0.0)\n",
      "Requirement already satisfied: imbalanced-learn in c:\\users\\pmmunyao\\appdata\\local\\anaconda3\\lib\\site-packages (from imblearn) (0.10.1)\n",
      "Requirement already satisfied: numpy>=1.17.3 in c:\\users\\pmmunyao\\appdata\\local\\anaconda3\\lib\\site-packages (from imbalanced-learn->imblearn) (1.24.3)\n",
      "Requirement already satisfied: scipy>=1.3.2 in c:\\users\\pmmunyao\\appdata\\local\\anaconda3\\lib\\site-packages (from imbalanced-learn->imblearn) (1.10.1)\n",
      "Requirement already satisfied: scikit-learn>=1.0.2 in c:\\users\\pmmunyao\\appdata\\local\\anaconda3\\lib\\site-packages (from imbalanced-learn->imblearn) (1.5.2)\n",
      "Requirement already satisfied: joblib>=1.1.1 in c:\\users\\pmmunyao\\appdata\\local\\anaconda3\\lib\\site-packages (from imbalanced-learn->imblearn) (1.2.0)\n",
      "Requirement already satisfied: threadpoolctl>=2.0.0 in c:\\users\\pmmunyao\\appdata\\local\\anaconda3\\lib\\site-packages (from imbalanced-learn->imblearn) (3.5.0)\n",
      "Requirement already satisfied: imblearn in c:\\users\\pmmunyao\\appdata\\local\\anaconda3\\lib\\site-packages (0.0)\n",
      "Requirement already satisfied: imbalanced-learn in c:\\users\\pmmunyao\\appdata\\local\\anaconda3\\lib\\site-packages (from imblearn) (0.10.1)\n",
      "Requirement already satisfied: numpy>=1.17.3 in c:\\users\\pmmunyao\\appdata\\local\\anaconda3\\lib\\site-packages (from imbalanced-learn->imblearn) (1.24.3)\n",
      "Requirement already satisfied: scipy>=1.3.2 in c:\\users\\pmmunyao\\appdata\\local\\anaconda3\\lib\\site-packages (from imbalanced-learn->imblearn) (1.10.1)\n",
      "Requirement already satisfied: scikit-learn>=1.0.2 in c:\\users\\pmmunyao\\appdata\\local\\anaconda3\\lib\\site-packages (from imbalanced-learn->imblearn) (1.5.2)\n",
      "Requirement already satisfied: joblib>=1.1.1 in c:\\users\\pmmunyao\\appdata\\local\\anaconda3\\lib\\site-packages (from imbalanced-learn->imblearn) (1.2.0)\n",
      "Requirement already satisfied: threadpoolctl>=2.0.0 in c:\\users\\pmmunyao\\appdata\\local\\anaconda3\\lib\\site-packages (from imbalanced-learn->imblearn) (3.5.0)\n",
      "Requirement already satisfied: imbalanced-learn in c:\\users\\pmmunyao\\appdata\\local\\anaconda3\\lib\\site-packages (0.10.1)\n",
      "Requirement already satisfied: numpy>=1.17.3 in c:\\users\\pmmunyao\\appdata\\local\\anaconda3\\lib\\site-packages (from imbalanced-learn) (1.24.3)\n",
      "Requirement already satisfied: scipy>=1.3.2 in c:\\users\\pmmunyao\\appdata\\local\\anaconda3\\lib\\site-packages (from imbalanced-learn) (1.10.1)\n",
      "Requirement already satisfied: scikit-learn>=1.0.2 in c:\\users\\pmmunyao\\appdata\\local\\anaconda3\\lib\\site-packages (from imbalanced-learn) (1.5.2)\n",
      "Requirement already satisfied: joblib>=1.1.1 in c:\\users\\pmmunyao\\appdata\\local\\anaconda3\\lib\\site-packages (from imbalanced-learn) (1.2.0)\n",
      "Requirement already satisfied: threadpoolctl>=2.0.0 in c:\\users\\pmmunyao\\appdata\\local\\anaconda3\\lib\\site-packages (from imbalanced-learn) (3.5.0)\n",
      "Could not fetch URL https://pypi.org/simple/scikit-learn/: There was a problem confirming the ssl certificate: HTTPSConnectionPool(host='pypi.org', port=443): Max retries exceeded with url: /simple/scikit-learn/ (Caused by SSLError(SSLCertVerificationError(1, '[SSL: CERTIFICATE_VERIFY_FAILED] certificate verify failed: self signed certificate in certificate chain (_ssl.c:1002)'))) - skipping\n"
     ]
    },
    {
     "name": "stderr",
     "output_type": "stream",
     "text": [
      "WARNING: Retrying (Retry(total=4, connect=None, read=None, redirect=None, status=None)) after connection broken by 'SSLError(SSLCertVerificationError(1, '[SSL: CERTIFICATE_VERIFY_FAILED] certificate verify failed: self signed certificate in certificate chain (_ssl.c:1002)'))': /simple/scikit-learn/\n",
      "WARNING: Retrying (Retry(total=3, connect=None, read=None, redirect=None, status=None)) after connection broken by 'SSLError(SSLCertVerificationError(1, '[SSL: CERTIFICATE_VERIFY_FAILED] certificate verify failed: self signed certificate in certificate chain (_ssl.c:1002)'))': /simple/scikit-learn/\n",
      "WARNING: Retrying (Retry(total=2, connect=None, read=None, redirect=None, status=None)) after connection broken by 'SSLError(SSLCertVerificationError(1, '[SSL: CERTIFICATE_VERIFY_FAILED] certificate verify failed: self signed certificate in certificate chain (_ssl.c:1002)'))': /simple/scikit-learn/\n",
      "WARNING: Retrying (Retry(total=1, connect=None, read=None, redirect=None, status=None)) after connection broken by 'SSLError(SSLCertVerificationError(1, '[SSL: CERTIFICATE_VERIFY_FAILED] certificate verify failed: self signed certificate in certificate chain (_ssl.c:1002)'))': /simple/scikit-learn/\n",
      "WARNING: Retrying (Retry(total=0, connect=None, read=None, redirect=None, status=None)) after connection broken by 'SSLError(SSLCertVerificationError(1, '[SSL: CERTIFICATE_VERIFY_FAILED] certificate verify failed: self signed certificate in certificate chain (_ssl.c:1002)'))': /simple/scikit-learn/\n",
      "ERROR: Could not find a version that satisfies the requirement scikit-learn==1.2.2 (from versions: none)\n",
      "ERROR: No matching distribution found for scikit-learn==1.2.2\n"
     ]
    },
    {
     "name": "stdout",
     "output_type": "stream",
     "text": [
      "Collecting scikit-learn==1.2.2\n",
      "  Obtaining dependency information for scikit-learn==1.2.2 from https://files.pythonhosted.org/packages/db/98/169b46a84b48f92df2b5e163fce75d471f4df933f8b3d925a61133210776/scikit_learn-1.2.2-cp311-cp311-win_amd64.whl.metadata\n",
      "  Using cached scikit_learn-1.2.2-cp311-cp311-win_amd64.whl.metadata (11 kB)\n",
      "Requirement already satisfied: numpy>=1.17.3 in c:\\users\\pmmunyao\\appdata\\local\\anaconda3\\lib\\site-packages (from scikit-learn==1.2.2) (1.24.3)\n",
      "Requirement already satisfied: scipy>=1.3.2 in c:\\users\\pmmunyao\\appdata\\local\\anaconda3\\lib\\site-packages (from scikit-learn==1.2.2) (1.10.1)\n",
      "Requirement already satisfied: joblib>=1.1.1 in c:\\users\\pmmunyao\\appdata\\local\\anaconda3\\lib\\site-packages (from scikit-learn==1.2.2) (1.2.0)\n",
      "Requirement already satisfied: threadpoolctl>=2.0.0 in c:\\users\\pmmunyao\\appdata\\local\\anaconda3\\lib\\site-packages (from scikit-learn==1.2.2) (3.5.0)\n",
      "Using cached scikit_learn-1.2.2-cp311-cp311-win_amd64.whl (8.3 MB)\n",
      "Installing collected packages: scikit-learn\n",
      "  Attempting uninstall: scikit-learn\n",
      "    Found existing installation: scikit-learn 1.5.2\n",
      "    Uninstalling scikit-learn-1.5.2:\n",
      "      Successfully uninstalled scikit-learn-1.5.2\n",
      "Successfully installed scikit-learn-1.2.2\n",
      "Requirement already satisfied: imbalanced-learn in c:\\users\\pmmunyao\\appdata\\local\\anaconda3\\lib\\site-packages (0.10.1)\n",
      "Requirement already satisfied: numpy>=1.17.3 in c:\\users\\pmmunyao\\appdata\\local\\anaconda3\\lib\\site-packages (from imbalanced-learn) (1.24.3)\n",
      "Requirement already satisfied: scipy>=1.3.2 in c:\\users\\pmmunyao\\appdata\\local\\anaconda3\\lib\\site-packages (from imbalanced-learn) (1.10.1)\n",
      "Requirement already satisfied: scikit-learn>=1.0.2 in c:\\users\\pmmunyao\\appdata\\local\\anaconda3\\lib\\site-packages (from imbalanced-learn) (1.2.2)\n",
      "Requirement already satisfied: joblib>=1.1.1 in c:\\users\\pmmunyao\\appdata\\local\\anaconda3\\lib\\site-packages (from imbalanced-learn) (1.2.0)\n",
      "Requirement already satisfied: threadpoolctl>=2.0.0 in c:\\users\\pmmunyao\\appdata\\local\\anaconda3\\lib\\site-packages (from imbalanced-learn) (3.5.0)\n",
      "Requirement already satisfied: imbalanced-learn in c:\\users\\pmmunyao\\appdata\\local\\anaconda3\\lib\\site-packages (0.10.1)\n",
      "Could not fetch URL https://pypi.org/simple/imbalanced-learn/: There was a problem confirming the ssl certificate: HTTPSConnectionPool(host='pypi.org', port=443): Max retries exceeded with url: /simple/imbalanced-learn/ (Caused by SSLError(SSLCertVerificationError(1, '[SSL: CERTIFICATE_VERIFY_FAILED] certificate verify failed: self signed certificate in certificate chain (_ssl.c:1002)'))) - skipping\n",
      "Requirement already satisfied: scikit-learn in c:\\users\\pmmunyao\\appdata\\local\\anaconda3\\lib\\site-packages (1.2.2)\n",
      "Could not fetch URL https://pypi.org/simple/scikit-learn/: There was a problem confirming the ssl certificate: HTTPSConnectionPool(host='pypi.org', port=443): Max retries exceeded with url: /simple/scikit-learn/ (Caused by SSLError(SSLCertVerificationError(1, '[SSL: CERTIFICATE_VERIFY_FAILED] certificate verify failed: self signed certificate in certificate chain (_ssl.c:1002)'))) - skipping\n",
      "Requirement already satisfied: numpy>=1.17.3 in c:\\users\\pmmunyao\\appdata\\local\\anaconda3\\lib\\site-packages (from imbalanced-learn) (1.24.3)\n",
      "Requirement already satisfied: scipy>=1.3.2 in c:\\users\\pmmunyao\\appdata\\local\\anaconda3\\lib\\site-packages (from imbalanced-learn) (1.10.1)\n",
      "Requirement already satisfied: joblib>=1.1.1 in c:\\users\\pmmunyao\\appdata\\local\\anaconda3\\lib\\site-packages (from imbalanced-learn) (1.2.0)\n",
      "Requirement already satisfied: threadpoolctl>=2.0.0 in c:\\users\\pmmunyao\\appdata\\local\\anaconda3\\lib\\site-packages (from imbalanced-learn) (3.5.0)\n"
     ]
    },
    {
     "name": "stderr",
     "output_type": "stream",
     "text": [
      "WARNING: Retrying (Retry(total=4, connect=None, read=None, redirect=None, status=None)) after connection broken by 'SSLError(SSLCertVerificationError(1, '[SSL: CERTIFICATE_VERIFY_FAILED] certificate verify failed: self signed certificate in certificate chain (_ssl.c:1002)'))': /simple/imbalanced-learn/\n",
      "WARNING: Retrying (Retry(total=3, connect=None, read=None, redirect=None, status=None)) after connection broken by 'SSLError(SSLCertVerificationError(1, '[SSL: CERTIFICATE_VERIFY_FAILED] certificate verify failed: self signed certificate in certificate chain (_ssl.c:1002)'))': /simple/imbalanced-learn/\n",
      "WARNING: Retrying (Retry(total=2, connect=None, read=None, redirect=None, status=None)) after connection broken by 'SSLError(SSLCertVerificationError(1, '[SSL: CERTIFICATE_VERIFY_FAILED] certificate verify failed: self signed certificate in certificate chain (_ssl.c:1002)'))': /simple/imbalanced-learn/\n",
      "WARNING: Retrying (Retry(total=1, connect=None, read=None, redirect=None, status=None)) after connection broken by 'SSLError(SSLCertVerificationError(1, '[SSL: CERTIFICATE_VERIFY_FAILED] certificate verify failed: self signed certificate in certificate chain (_ssl.c:1002)'))': /simple/imbalanced-learn/\n",
      "WARNING: Retrying (Retry(total=0, connect=None, read=None, redirect=None, status=None)) after connection broken by 'SSLError(SSLCertVerificationError(1, '[SSL: CERTIFICATE_VERIFY_FAILED] certificate verify failed: self signed certificate in certificate chain (_ssl.c:1002)'))': /simple/imbalanced-learn/\n",
      "WARNING: Retrying (Retry(total=4, connect=None, read=None, redirect=None, status=None)) after connection broken by 'SSLError(SSLCertVerificationError(1, '[SSL: CERTIFICATE_VERIFY_FAILED] certificate verify failed: self signed certificate in certificate chain (_ssl.c:1002)'))': /simple/scikit-learn/\n",
      "WARNING: Retrying (Retry(total=3, connect=None, read=None, redirect=None, status=None)) after connection broken by 'SSLError(SSLCertVerificationError(1, '[SSL: CERTIFICATE_VERIFY_FAILED] certificate verify failed: self signed certificate in certificate chain (_ssl.c:1002)'))': /simple/scikit-learn/\n",
      "WARNING: Retrying (Retry(total=2, connect=None, read=None, redirect=None, status=None)) after connection broken by 'SSLError(SSLCertVerificationError(1, '[SSL: CERTIFICATE_VERIFY_FAILED] certificate verify failed: self signed certificate in certificate chain (_ssl.c:1002)'))': /simple/scikit-learn/\n",
      "WARNING: Retrying (Retry(total=1, connect=None, read=None, redirect=None, status=None)) after connection broken by 'SSLError(SSLCertVerificationError(1, '[SSL: CERTIFICATE_VERIFY_FAILED] certificate verify failed: self signed certificate in certificate chain (_ssl.c:1002)'))': /simple/scikit-learn/\n",
      "WARNING: Retrying (Retry(total=0, connect=None, read=None, redirect=None, status=None)) after connection broken by 'SSLError(SSLCertVerificationError(1, '[SSL: CERTIFICATE_VERIFY_FAILED] certificate verify failed: self signed certificate in certificate chain (_ssl.c:1002)'))': /simple/scikit-learn/\n"
     ]
    }
   ],
   "source": [
    "# Install more relevant packages and their trusted files\n",
    "\n",
    "!pip install --upgrade pip\n",
    "!pip install --trusted-host pypi.org --trusted-host files.pythonhosted.org pip\n",
    "!pip install --upgrade openpyxl\n",
    "!pip install --trusted-host pypi.org --trusted-host files.pythonhosted.org --upgrade openpyxl\n",
    "!pip show openpyxl\n",
    "!pip install --upgrade bottleneck\n",
    "!pip install --trusted-host pypi.org --trusted-host files.pythonhosted.org --upgrade bottleneck\n",
    "!pip install -U scikit-learn\n",
    "!pip install --trusted-host pypi.org --trusted-host files.pythonhosted.org -U scikit-learn\n",
    "!pip install imblearn\n",
    "!pip install --trusted-host pypi.org --trusted-host files.pythonhosted.org imblearn\n",
    "!pip install imbalanced-learn\n",
    "!pip install scikit-learn==1.2.2\n",
    "!pip install --trusted-host pypi.org --trusted-host files.pythonhosted.org scikit-learn==1.2.2\n",
    "!pip install imbalanced-learn\n",
    "!pip install -U imbalanced-learn scikit-learn\n"
   ]
  },
  {
   "cell_type": "code",
   "execution_count": 76,
   "id": "78f967fd",
   "metadata": {},
   "outputs": [],
   "source": [
    "# Connecting to Orcledb\n",
    "\n",
    "c = orc.connect(***)"
   ]
  },
  {
   "cell_type": "markdown",
   "id": "45fcde45",
   "metadata": {},
   "source": [
    "### Load data"
   ]
  },
  {
   "cell_type": "code",
   "execution_count": 4,
   "id": "6c716762",
   "metadata": {},
   "outputs": [],
   "source": [
    "# Import libraries\n",
    "import matplotlib.pyplot as plt\n",
    "import seaborn as sns\n",
    "import warnings\n",
    "warnings.filterwarnings('ignore')\n",
    "from dask.dataframe import from_pandas\n",
    "import dask.dataframe as dd\n",
    "from sklearn import preprocessing\n",
    "import pandas as pd\n",
    "import numpy as np\n",
    "from collections import Counter\n",
    "from sklearn.datasets import make_classification\n",
    "from imblearn.over_sampling import SMOTE\n",
    "from imblearn.combine import SMOTEENN\n"
   ]
  },
  {
   "cell_type": "code",
   "execution_count": 77,
   "id": "f5d93677",
   "metadata": {},
   "outputs": [],
   "source": [
    "# DB data fetch\n",
    "\n",
    "df = pd.read_sql_query(\"select * from p*.ML_data_temp\", con=c)"
   ]
  },
  {
   "cell_type": "code",
   "execution_count": null,
   "id": "d514de1c",
   "metadata": {},
   "outputs": [],
   "source": []
  },
  {
   "cell_type": "markdown",
   "id": "5b194e35",
   "metadata": {},
   "source": [
    "### Preview Data"
   ]
  },
  {
   "cell_type": "code",
   "execution_count": 6,
   "id": "fb1477e9",
   "metadata": {},
   "outputs": [
    {
     "name": "stdout",
     "output_type": "stream",
     "text": [
      "The fraud dataset has 224281 observations and 4 features.\n",
      "The fraud dataset size is 897124\n"
     ]
    }
   ],
   "source": [
    "# shape & size of the dataset\n",
    "\n",
    "#shape\n",
    "print(f\"The fraud dataset has {df.shape[0]} observations and {df.shape[1]} features.\")  #format(df.shape[0], df.size[1]))\n",
    "#df.shape\n",
    "\n",
    "#size\n",
    "print(\"The fraud dataset size is\", df.size)"
   ]
  },
  {
   "cell_type": "code",
   "execution_count": 7,
   "id": "40a46b1c",
   "metadata": {},
   "outputs": [],
   "source": [
    "# Preview the first 5 rows\n",
    "\n",
    "#df.head()"
   ]
  },
  {
   "cell_type": "code",
   "execution_count": 8,
   "id": "7d18dc36",
   "metadata": {},
   "outputs": [],
   "source": [
    "# Preview the last 3 rows\n",
    "\n",
    "#df.tail(3)"
   ]
  },
  {
   "cell_type": "markdown",
   "id": "c55a1242",
   "metadata": {},
   "source": [
    "### Checking the dataset "
   ]
  },
  {
   "cell_type": "code",
   "execution_count": 9,
   "id": "df1210c2",
   "metadata": {},
   "outputs": [
    {
     "data": {
      "text/html": [
       "<div>\n",
       "<style scoped>\n",
       "    .dataframe tbody tr th:only-of-type {\n",
       "        vertical-align: middle;\n",
       "    }\n",
       "\n",
       "    .dataframe tbody tr th {\n",
       "        vertical-align: top;\n",
       "    }\n",
       "\n",
       "    .dataframe thead th {\n",
       "        text-align: right;\n",
       "    }\n",
       "</style>\n",
       "<table border=\"1\" class=\"dataframe\">\n",
       "  <thead>\n",
       "    <tr style=\"text-align: right;\">\n",
       "      <th></th>\n",
       "      <th>FRAUDULENT</th>\n",
       "    </tr>\n",
       "  </thead>\n",
       "  <tbody>\n",
       "    <tr>\n",
       "      <th>count</th>\n",
       "      <td>224281.000000</td>\n",
       "    </tr>\n",
       "    <tr>\n",
       "      <th>mean</th>\n",
       "      <td>0.347328</td>\n",
       "    </tr>\n",
       "    <tr>\n",
       "      <th>std</th>\n",
       "      <td>0.476122</td>\n",
       "    </tr>\n",
       "    <tr>\n",
       "      <th>min</th>\n",
       "      <td>0.000000</td>\n",
       "    </tr>\n",
       "    <tr>\n",
       "      <th>25%</th>\n",
       "      <td>0.000000</td>\n",
       "    </tr>\n",
       "    <tr>\n",
       "      <th>50%</th>\n",
       "      <td>0.000000</td>\n",
       "    </tr>\n",
       "    <tr>\n",
       "      <th>75%</th>\n",
       "      <td>1.000000</td>\n",
       "    </tr>\n",
       "    <tr>\n",
       "      <th>max</th>\n",
       "      <td>1.000000</td>\n",
       "    </tr>\n",
       "  </tbody>\n",
       "</table>\n",
       "</div>"
      ],
      "text/plain": [
       "          FRAUDULENT\n",
       "count  224281.000000\n",
       "mean        0.347328\n",
       "std         0.476122\n",
       "min         0.000000\n",
       "25%         0.000000\n",
       "50%         0.000000\n",
       "75%         1.000000\n",
       "max         1.000000"
      ]
     },
     "execution_count": 9,
     "metadata": {},
     "output_type": "execute_result"
    }
   ],
   "source": [
    "df.describe()"
   ]
  },
  {
   "cell_type": "code",
   "execution_count": 10,
   "id": "1d9b7567",
   "metadata": {},
   "outputs": [
    {
     "data": {
      "text/plain": [
       "Index(['TXN_DATE', 'TXN_AMT', 'RECIPIENT', 'FRAUDULENT'], dtype='object')"
      ]
     },
     "execution_count": 10,
     "metadata": {},
     "output_type": "execute_result"
    }
   ],
   "source": [
    "# Column names\n",
    "df.columns"
   ]
  },
  {
   "cell_type": "code",
   "execution_count": 11,
   "id": "6a44a940",
   "metadata": {},
   "outputs": [
    {
     "data": {
      "text/plain": [
       "TXN_DATE         248\n",
       "TXN_AMT         5517\n",
       "RECIPIENT     223746\n",
       "FRAUDULENT         2\n",
       "dtype: int64"
      ]
     },
     "execution_count": 11,
     "metadata": {},
     "output_type": "execute_result"
    }
   ],
   "source": [
    "#Unique values\n",
    "\n",
    "df.nunique()"
   ]
  },
  {
   "cell_type": "code",
   "execution_count": 12,
   "id": "98d2b4d1",
   "metadata": {},
   "outputs": [
    {
     "data": {
      "text/plain": [
       "array([1, 0], dtype=int64)"
      ]
     },
     "execution_count": 12,
     "metadata": {},
     "output_type": "execute_result"
    }
   ],
   "source": [
    "# Unique values in columns\n",
    "\n",
    "df.FRAUDULENT.unique()"
   ]
  },
  {
   "cell_type": "code",
   "execution_count": 13,
   "id": "5df8c971",
   "metadata": {},
   "outputs": [
    {
     "data": {
      "text/plain": [
       "TXN_DATE      object\n",
       "TXN_AMT       object\n",
       "RECIPIENT     object\n",
       "FRAUDULENT     int64\n",
       "dtype: object"
      ]
     },
     "execution_count": 13,
     "metadata": {},
     "output_type": "execute_result"
    }
   ],
   "source": [
    "# Datatype for each feature\n",
    "\n",
    "df.dtypes"
   ]
  },
  {
   "cell_type": "markdown",
   "id": "a7107c47",
   "metadata": {},
   "source": [
    "#### Txn_date to be changed to datetime format"
   ]
  },
  {
   "cell_type": "code",
   "execution_count": 14,
   "id": "45372c07",
   "metadata": {},
   "outputs": [
    {
     "data": {
      "text/plain": [
       "TXN_DATE\n",
       "5/22/2024     944\n",
       "11/07/2024    780\n",
       "6/30/2024     704\n",
       "08/07/2024    637\n",
       "12/07/2024    609\n",
       "             ... \n",
       "04/04/2024     50\n",
       "4/17/2024      44\n",
       "1/27/2024      14\n",
       "1/24/2024      12\n",
       "1/22/2024       6\n",
       "Name: count, Length: 240, dtype: int64"
      ]
     },
     "execution_count": 14,
     "metadata": {},
     "output_type": "execute_result"
    }
   ],
   "source": [
    "# Distribution of fraudulent txns per date\n",
    "\n",
    "df.loc[df.FRAUDULENT==1,\"TXN_DATE\"].value_counts()"
   ]
  },
  {
   "cell_type": "code",
   "execution_count": 15,
   "id": "87c283e1",
   "metadata": {},
   "outputs": [
    {
     "name": "stdout",
     "output_type": "stream",
     "text": [
      "Min, Max amount of fraudulent transactions 10.0,99999.0\n",
      "Min, Max amount of genuine transactions 10.0,999.0\n"
     ]
    }
   ],
   "source": [
    "#Check min and max values of fraudulent and genuine transactions \n",
    "\n",
    "print('Min, Max amount of fraudulent transactions {},{}'.format(df.loc[df.FRAUDULENT==1].TXN_AMT.min(), df.loc[df.FRAUDULENT==1].TXN_AMT.max()))\n",
    "print('Min, Max amount of genuine transactions {},{}'.format(df.loc[df.FRAUDULENT==0].TXN_AMT.min(), df.loc[df.FRAUDULENT==0].TXN_AMT.max()))\n"
   ]
  },
  {
   "cell_type": "code",
   "execution_count": null,
   "id": "91531016",
   "metadata": {},
   "outputs": [],
   "source": []
  },
  {
   "cell_type": "markdown",
   "id": "5fd7b282",
   "metadata": {},
   "source": [
    "#### Data Preparation"
   ]
  },
  {
   "cell_type": "code",
   "execution_count": 16,
   "id": "b28b23cf",
   "metadata": {},
   "outputs": [
    {
     "name": "stdout",
     "output_type": "stream",
     "text": [
      "<class 'pandas.core.frame.DataFrame'>\n",
      "RangeIndex: 224281 entries, 0 to 224280\n",
      "Data columns (total 4 columns):\n",
      " #   Column      Non-Null Count   Dtype \n",
      "---  ------      --------------   ----- \n",
      " 0   TXN_DATE    224281 non-null  object\n",
      " 1   TXN_AMT     224281 non-null  object\n",
      " 2   RECIPIENT   224281 non-null  object\n",
      " 3   FRAUDULENT  224281 non-null  int64 \n",
      "dtypes: int64(1), object(3)\n",
      "memory usage: 6.8+ MB\n"
     ]
    }
   ],
   "source": [
    "# Uniformity\n",
    "\n",
    "df.info()"
   ]
  },
  {
   "cell_type": "code",
   "execution_count": 17,
   "id": "3b841a3e",
   "metadata": {},
   "outputs": [],
   "source": [
    "# Covert features to correct datatypes \n",
    "\n",
    "import datetime\n",
    "from datetime import date\n",
    "\n",
    "df['TXN_DATE'] = pd.to_datetime(df['TXN_DATE'])\n",
    "\n",
    "# Change amount from str to float to allow computation\n",
    "\n",
    "df['TXN_AMT'] = df['TXN_AMT'].astype(float)\n"
   ]
  },
  {
   "cell_type": "markdown",
   "id": "bc71f5ae",
   "metadata": {},
   "source": [
    "#### Completeness"
   ]
  },
  {
   "cell_type": "code",
   "execution_count": 18,
   "id": "1c5cf053",
   "metadata": {},
   "outputs": [
    {
     "data": {
      "text/plain": [
       "TXN_DATE      0\n",
       "TXN_AMT       0\n",
       "RECIPIENT     0\n",
       "FRAUDULENT    0\n",
       "dtype: int64"
      ]
     },
     "execution_count": 18,
     "metadata": {},
     "output_type": "execute_result"
    }
   ],
   "source": [
    "#Checking for null values\n",
    "\n",
    "df.isnull().sum()"
   ]
  },
  {
   "cell_type": "markdown",
   "id": "907e3c8e",
   "metadata": {},
   "source": [
    "#### No null values found on our data"
   ]
  },
  {
   "cell_type": "code",
   "execution_count": 19,
   "id": "f518b1a5",
   "metadata": {},
   "outputs": [],
   "source": [
    "df = df.dropna(how='any',axis=0)"
   ]
  },
  {
   "cell_type": "markdown",
   "id": "46fbe711",
   "metadata": {},
   "source": [
    "#### Consistency"
   ]
  },
  {
   "cell_type": "code",
   "execution_count": 20,
   "id": "e8f15edf",
   "metadata": {},
   "outputs": [
    {
     "name": "stdout",
     "output_type": "stream",
     "text": [
      "Fraud dataset has 0 duplicate values.\n",
      "************************************\n"
     ]
    },
    {
     "data": {
      "text/html": [
       "<div>\n",
       "<style scoped>\n",
       "    .dataframe tbody tr th:only-of-type {\n",
       "        vertical-align: middle;\n",
       "    }\n",
       "\n",
       "    .dataframe tbody tr th {\n",
       "        vertical-align: top;\n",
       "    }\n",
       "\n",
       "    .dataframe thead th {\n",
       "        text-align: right;\n",
       "    }\n",
       "</style>\n",
       "<table border=\"1\" class=\"dataframe\">\n",
       "  <thead>\n",
       "    <tr style=\"text-align: right;\">\n",
       "      <th></th>\n",
       "      <th>TXN_DATE</th>\n",
       "      <th>TXN_AMT</th>\n",
       "      <th>RECIPIENT</th>\n",
       "      <th>FRAUDULENT</th>\n",
       "    </tr>\n",
       "  </thead>\n",
       "  <tbody>\n",
       "  </tbody>\n",
       "</table>\n",
       "</div>"
      ],
      "text/plain": [
       "Empty DataFrame\n",
       "Columns: [TXN_DATE, TXN_AMT, RECIPIENT, FRAUDULENT]\n",
       "Index: []"
      ]
     },
     "execution_count": 20,
     "metadata": {},
     "output_type": "execute_result"
    }
   ],
   "source": [
    "# Count duplicated records in the dataset\n",
    "\n",
    "print(f'Fraud dataset has {df.duplicated().sum()} duplicate values.')\n",
    "\n",
    "print('************************************')\n",
    "\n",
    "df[df.duplicated()]"
   ]
  },
  {
   "cell_type": "code",
   "execution_count": 21,
   "id": "b587ee1c",
   "metadata": {},
   "outputs": [
    {
     "data": {
      "text/plain": [
       "Series([], Name: count, dtype: int64)"
      ]
     },
     "execution_count": 21,
     "metadata": {},
     "output_type": "execute_result"
    }
   ],
   "source": [
    "# Confirm count of records for sample msisdn\n",
    "\n",
    "df.loc[df.RECIPIENT=='701***347','TXN_DATE'].value_counts()\n",
    "\n",
    "#tid appears twice on the said date"
   ]
  },
  {
   "cell_type": "code",
   "execution_count": 22,
   "id": "987f84af",
   "metadata": {},
   "outputs": [],
   "source": [
    "# drop duplicates\n",
    "\n",
    "df = df.drop_duplicates()"
   ]
  },
  {
   "cell_type": "code",
   "execution_count": 23,
   "id": "9dba3040",
   "metadata": {},
   "outputs": [
    {
     "data": {
      "text/html": [
       "<div>\n",
       "<style scoped>\n",
       "    .dataframe tbody tr th:only-of-type {\n",
       "        vertical-align: middle;\n",
       "    }\n",
       "\n",
       "    .dataframe tbody tr th {\n",
       "        vertical-align: top;\n",
       "    }\n",
       "\n",
       "    .dataframe thead th {\n",
       "        text-align: right;\n",
       "    }\n",
       "</style>\n",
       "<table border=\"1\" class=\"dataframe\">\n",
       "  <thead>\n",
       "    <tr style=\"text-align: right;\">\n",
       "      <th></th>\n",
       "      <th>TXN_DATE</th>\n",
       "      <th>TXN_AMT</th>\n",
       "      <th>RECIPIENT</th>\n",
       "      <th>FRAUDULENT</th>\n",
       "    </tr>\n",
       "  </thead>\n",
       "  <tbody>\n",
       "  </tbody>\n",
       "</table>\n",
       "</div>"
      ],
      "text/plain": [
       "Empty DataFrame\n",
       "Columns: [TXN_DATE, TXN_AMT, RECIPIENT, FRAUDULENT]\n",
       "Index: []"
      ]
     },
     "execution_count": 23,
     "metadata": {},
     "output_type": "execute_result"
    }
   ],
   "source": [
    "df[df.duplicated()]"
   ]
  },
  {
   "cell_type": "markdown",
   "id": "ea1abf3b",
   "metadata": {},
   "source": [
    "#### Outliers"
   ]
  },
  {
   "cell_type": "code",
   "execution_count": 24,
   "id": "2ac7f26b",
   "metadata": {},
   "outputs": [],
   "source": [
    "# Checking for outliers\n",
    "\n",
    "import seaborn as sns\n",
    "import matplotlib.pyplot as plt"
   ]
  },
  {
   "cell_type": "markdown",
   "id": "0f1341db",
   "metadata": {},
   "source": [
    "#### Exploratory Data Analysis"
   ]
  },
  {
   "cell_type": "markdown",
   "id": "18fedfde",
   "metadata": {},
   "source": [
    "### Univariate Analysis "
   ]
  },
  {
   "cell_type": "code",
   "execution_count": 25,
   "id": "18d0c292",
   "metadata": {},
   "outputs": [
    {
     "name": "stdout",
     "output_type": "stream",
     "text": [
      "FRAUDULENT\n",
      "0    146382\n",
      "1     77899\n",
      "Name: count, dtype: int64 \n",
      "\n"
     ]
    },
    {
     "data": {
      "image/png": "[encoded data removed]",
      "text/plain": [
       "<Figure size 500x200 with 1 Axes>"
      ]
     },
     "metadata": {},
     "output_type": "display_data"
    }
   ],
   "source": [
    "# Check class balance for target variable\n",
    "\n",
    "plt.figure(figsize= (5,2))\n",
    "print(df[\"FRAUDULENT\"].value_counts(),\"\\n\")\n",
    "sns.countplot(x=df['FRAUDULENT'], palette='hls')\n",
    "plt.title('Distribution of Target Variable - Fraud Dataset')\n",
    "plt.xlabel('Fault Class (0 -> Genuine, 1 -> Fraudulent)')\n",
    "plt.ylabel('Count')\n",
    "plt.show()"
   ]
  },
  {
   "cell_type": "code",
   "execution_count": null,
   "id": "68602b5f",
   "metadata": {},
   "outputs": [],
   "source": []
  },
  {
   "cell_type": "markdown",
   "id": "7d8bf4c1",
   "metadata": {},
   "source": [
    "### Data Preprocessing"
   ]
  },
  {
   "cell_type": "code",
   "execution_count": 26,
   "id": "77de2ca4",
   "metadata": {},
   "outputs": [
    {
     "name": "stdout",
     "output_type": "stream",
     "text": [
      "TXN_DATE      datetime64[ns]\n",
      "TXN_AMT              float64\n",
      "RECIPIENT             object\n",
      "FRAUDULENT             int64\n",
      "month                  int32\n",
      "dtype: object\n"
     ]
    }
   ],
   "source": [
    "# Ensuring the transaction_date is in datetime format\n",
    "df['TXN_DATE'] = pd.to_datetime(df['TXN_DATE'], errors='coerce')\n",
    "\n",
    "# Checking for any conversion issues\n",
    "if df['TXN_DATE'].isnull().any():\n",
    "    raise ValueError(\"Some dates couldn't be converted. Check your transaction_date column for invalid dates.\")\n",
    "\n",
    "# Extracting the month as an integer\n",
    "df['month'] = df['TXN_DATE'].dt.month\n",
    "\n",
    "df['month'] = df['month'].astype(int)\n",
    "\n",
    "# Verifying the data types\n",
    "print(df.dtypes)\n",
    "\n",
    "# Calculating the monthly average transaction amount per recipient\n",
    "try:\n",
    "    monthly_avg = df.groupby(['RECIPIENT', 'month'])['TXN_AMT'].mean().reset_index(name='monthly_avg')\n",
    "#    print(monthly_avg)\n",
    "except TypeError as e:\n",
    "    print(f\"TypeError: {e}\")\n",
    "    print(\"Ensure that 'transaction_date' is in datetime format and 'month' contains integers.\")"
   ]
  },
  {
   "cell_type": "code",
   "execution_count": 27,
   "id": "0fb1d133",
   "metadata": {},
   "outputs": [],
   "source": [
    "# Extract day from the date\n",
    "\n",
    "df['day'] = df['TXN_DATE'].dt.day\n"
   ]
  },
  {
   "cell_type": "code",
   "execution_count": 28,
   "id": "c00da4e4",
   "metadata": {},
   "outputs": [],
   "source": [
    "# Update datatypes for the features\n",
    "\n",
    "df['day'] = df['day'].astype(str)\n",
    "df['month'] = df['month'].astype(str)\n",
    "\n",
    "df['TXN_AMT'] = df['TXN_AMT'].astype(float)\n",
    "df['FRAUDULENT'] = df['FRAUDULENT'].astype(int)\n"
   ]
  },
  {
   "cell_type": "code",
   "execution_count": 29,
   "id": "c8a916f1",
   "metadata": {},
   "outputs": [
    {
     "data": {
      "text/plain": [
       "array(['7', '8', '5', '9', '4', '3', '2', '6', '11', '12', '1', '10'],\n",
       "      dtype=object)"
      ]
     },
     "execution_count": 29,
     "metadata": {},
     "output_type": "execute_result"
    }
   ],
   "source": [
    "df.month.unique()"
   ]
  },
  {
   "cell_type": "code",
   "execution_count": 30,
   "id": "d49dd8c6",
   "metadata": {},
   "outputs": [
    {
     "data": {
      "text/plain": [
       "array(['8', '3', '2', '6', '5', '21', '9', '30', '7', '26', '28', '23',\n",
       "       '22', '14', '15', '29', '19', '18', '17', '4', '20', '13', '27',\n",
       "       '16', '25', '31', '24'], dtype=object)"
      ]
     },
     "execution_count": 30,
     "metadata": {},
     "output_type": "execute_result"
    }
   ],
   "source": [
    "df.day.unique()"
   ]
  },
  {
   "cell_type": "markdown",
   "id": "ee7cbfe0",
   "metadata": {},
   "source": [
    "#### Rule 1 :Transaction Averages"
   ]
  },
  {
   "cell_type": "code",
   "execution_count": 31,
   "id": "47d43815",
   "metadata": {},
   "outputs": [],
   "source": [
    "# Calculate monthly average transaction amount\n",
    "\n",
    "monthly_avg = df.groupby(['RECIPIENT', 'month'])['TXN_AMT'].mean().reset_index(name='monthly_avg')"
   ]
  },
  {
   "cell_type": "code",
   "execution_count": 32,
   "id": "1445924d",
   "metadata": {},
   "outputs": [],
   "source": [
    "# Calculate daily average transaction amount\n",
    "\n",
    "daily_avg = df.groupby(['RECIPIENT', 'day'])['TXN_AMT'].mean().reset_index(name='daily_avg')\n"
   ]
  },
  {
   "cell_type": "code",
   "execution_count": 33,
   "id": "7b3ead37",
   "metadata": {},
   "outputs": [],
   "source": [
    "# Merge daily and monthly averages with the original dateframe\n",
    "\n",
    "df = df.merge(daily_avg, on=['RECIPIENT', 'day'])\n",
    "df = df.merge(monthly_avg, on=['RECIPIENT', 'month'])"
   ]
  },
  {
   "cell_type": "code",
   "execution_count": 34,
   "id": "82e86d26",
   "metadata": {},
   "outputs": [],
   "source": [
    "# Determine if amount exceeds daily and monthly averages\n",
    "\n",
    "df['exceeds_daily_avg'] = df['TXN_AMT'] > df['daily_avg']\n",
    "\n",
    "df['exceeds_monthly_avg'] = df['TXN_AMT'] > df['monthly_avg']"
   ]
  },
  {
   "cell_type": "code",
   "execution_count": 35,
   "id": "f106a118",
   "metadata": {},
   "outputs": [],
   "source": [
    "# score calculation \n",
    "\n",
    "df['daily_score'] = df['exceeds_daily_avg'].astype(int)\n",
    "df['monthly_score'] = df['exceeds_monthly_avg'].astype(int)"
   ]
  },
  {
   "cell_type": "code",
   "execution_count": 36,
   "id": "40ce556e",
   "metadata": {},
   "outputs": [
    {
     "data": {
      "text/plain": [
       "TXN_DATE               224281.0\n",
       "TXN_AMT                224281.0\n",
       "RECIPIENT              224281.0\n",
       "FRAUDULENT             224281.0\n",
       "month                  224281.0\n",
       "day                    224281.0\n",
       "daily_avg              224281.0\n",
       "monthly_avg            224281.0\n",
       "exceeds_daily_avg      224281.0\n",
       "exceeds_monthly_avg    224281.0\n",
       "daily_score            224281.0\n",
       "monthly_score          224281.0\n",
       "dtype: float64"
      ]
     },
     "execution_count": 36,
     "metadata": {},
     "output_type": "execute_result"
    }
   ],
   "source": [
    "df.apply(pd.value_counts).sum()"
   ]
  },
  {
   "cell_type": "markdown",
   "id": "78f05179",
   "metadata": {},
   "source": [
    "#### Rule 2: Odd Transaction Flag"
   ]
  },
  {
   "cell_type": "code",
   "execution_count": 37,
   "id": "25715d24",
   "metadata": {},
   "outputs": [],
   "source": [
    "import numpy as np\n",
    "\n",
    "df['odd_flag'] = np.where(df['TXN_AMT']%2 != 0,1,0)"
   ]
  },
  {
   "cell_type": "markdown",
   "id": "96d9c504",
   "metadata": {},
   "source": [
    "#### Rule 3: Disibility by 5; deviation by 35k & 140k"
   ]
  },
  {
   "cell_type": "code",
   "execution_count": 38,
   "id": "44c4ef09",
   "metadata": {},
   "outputs": [],
   "source": [
    "df['div_by_5'] = np.where(df['TXN_AMT']%5 == 0,1,0)\n",
    "\n",
    "df['dev_from_35k'] = np.where(df['TXN_AMT']%35000 == 0,1,0)\n",
    "\n",
    "df['dev_from_140k'] = np.where(df['TXN_AMT']%140000 == 0,1,0)\n"
   ]
  },
  {
   "cell_type": "markdown",
   "id": "2eb8adc7",
   "metadata": {},
   "source": [
    "#### Rule 4: Airtel & Telkom Transactions"
   ]
  },
  {
   "cell_type": "code",
   "execution_count": 39,
   "id": "33b3e475",
   "metadata": {},
   "outputs": [],
   "source": [
    "lookfor_paybill = ['5**5', '3**1']\n",
    "\n",
    "\n",
    "df['airtel_telkom_trans'] = df['RECIPIENT'].apply(lambda x: 1 if any(i in x for i in lookfor_paybill) else 0)"
   ]
  },
  {
   "cell_type": "markdown",
   "id": "b187ec51",
   "metadata": {},
   "source": [
    "#### Rule 5: Known fraudulent MSISDN "
   ]
  },
  {
   "cell_type": "code",
   "execution_count": 40,
   "id": "2e4f3307",
   "metadata": {},
   "outputs": [],
   "source": [
    "df['knwn_fraud_msisdn'] = df['FRAUDULENT'].apply(lambda x: 1 if x == 1 else 0)\n"
   ]
  },
  {
   "cell_type": "markdown",
   "id": "22f4de71",
   "metadata": {},
   "source": [
    "#### Rule 6: Time Lapse"
   ]
  },
  {
   "cell_type": "code",
   "execution_count": 41,
   "id": "d310076f",
   "metadata": {},
   "outputs": [],
   "source": [
    "# If transactions done within lesser than 5mins\n",
    "\n",
    "df.sort_values(by=['RECIPIENT','TXN_DATE'], ascending = [False, True], inplace = True)\n",
    "\n",
    "df['time_lapse'] = (df.groupby(['RECIPIENT','TXN_DATE'])['TXN_DATE']\\\n",
    "                    .diff().dt.total_seconds()/60).fillna(0)\n",
    "\n",
    "df['time_lapse_flag'] = np.where(df['time_lapse'] <= 3,1,0)\n"
   ]
  },
  {
   "cell_type": "code",
   "execution_count": null,
   "id": "754dd9c5",
   "metadata": {},
   "outputs": [],
   "source": []
  },
  {
   "cell_type": "markdown",
   "id": "43bf8f60",
   "metadata": {},
   "source": [
    "#### Rule 7: Age on Network (AoN)"
   ]
  },
  {
   "cell_type": "code",
   "execution_count": 42,
   "id": "eeeed321",
   "metadata": {
    "scrolled": false
   },
   "outputs": [],
   "source": [
    "#Pending \n",
    "query = pd.read_sql_query (\"select MOBILE from g2logs.one_year_customer_updated where trunc((sysdate)- REGDATE)/30<4\", con=c)\n",
    "\n",
    "df['AoN'] = df['RECIPIENT'].apply(lambda x: 1 if any(i in x for i in query) else 0)\n"
   ]
  },
  {
   "cell_type": "markdown",
   "id": "3793ee85",
   "metadata": {},
   "source": [
    "### Modelling"
   ]
  },
  {
   "cell_type": "code",
   "execution_count": 43,
   "id": "84384f05",
   "metadata": {},
   "outputs": [],
   "source": [
    "# Necessary Imports\n",
    "\n",
    "from sklearn.tree import DecisionTreeClassifier\n",
    "from sklearn.metrics import classification_report,confusion_matrix,accuracy_score,roc_auc_score,f1_score, precision_score, recall_score\n",
    "from sklearn.model_selection import KFold, cross_val_score, train_test_split\n",
    "from sklearn.svm import SVC, LinearSVC\n",
    "from sklearn.ensemble import RandomForestClassifier, AdaBoostClassifier"
   ]
  },
  {
   "cell_type": "code",
   "execution_count": 44,
   "id": "d64e5c4a",
   "metadata": {},
   "outputs": [],
   "source": [
    "# Creating table to store the results\n",
    "\n",
    "models ={'Model':['Decision Tree', 'Random Forest','LGBM','XGBOOST','Polynomial SVC', 'MLP', 'Ada Boost','Logistic Regression'],\n",
    "         'Accuracy':[0,0,0,0,0,0,0,0],\n",
    "         'Precision':[0,0,0,0,0,0,0,0],\n",
    "         'Recall':[0,0,0,0,0,0,0,0],\n",
    "         'f1_score':[0,0,0,0,0,0,0,0]}\n",
    "\n",
    "df_results = pd.DataFrame(models,columns=['Model','Accuracy','Precision','Recall','f1_score'])\n",
    "\n",
    "def model_results(model_type, y_test_data, y_pred_data):\n",
    "  index_val = df_results[df_results['Model']==model_type].index\n",
    "\n",
    "  df_results.loc[index_val,'Accuracy']= accuracy_score(y_test_data, y_pred_data)\n",
    "  df_results.loc[index_val,'Precision']= precision_score(y_test_data, y_pred_data)\n",
    "  df_results.loc[index_val,'Recall']= recall_score(y_test_data, y_pred_data)\n",
    "  df_results.loc[index_val,'f1_score']= f1_score(y_test_data, y_pred_data)\n",
    "  \n",
    "  return df_results"
   ]
  },
  {
   "cell_type": "code",
   "execution_count": 45,
   "id": "1f31028e",
   "metadata": {},
   "outputs": [],
   "source": [
    "test_features = ['daily_score', 'monthly_score','odd_flag', 'div_by_5','dev_from_140k', 'knwn_fraud_msisdn', 'dev_from_35k','airtel_telkom_trans']\n",
    "# \n",
    "\n",
    "#test_features = df.columns.to_list()\n",
    "\n",
    "y = df['FRAUDULENT'].values\n",
    "x = df[test_features].values"
   ]
  },
  {
   "cell_type": "code",
   "execution_count": 46,
   "id": "a251a327",
   "metadata": {},
   "outputs": [],
   "source": [
    "# Split the independent and dependent variables \n",
    "\n",
    "X_train,X_test, y_train, y_test = train_test_split(x,y,test_size = 0.15, random_state = 42)"
   ]
  },
  {
   "cell_type": "markdown",
   "id": "0d65479f",
   "metadata": {},
   "source": [
    "#### Handling Data Imbalance: SMOTE + ENN (SMOTEENN)"
   ]
  },
  {
   "cell_type": "code",
   "execution_count": 47,
   "id": "b0a6088a",
   "metadata": {},
   "outputs": [],
   "source": [
    "from imblearn.over_sampling import SMOTE\n",
    "from imblearn.under_sampling import NearMiss\n",
    "from sklearn.impute import SimpleImputer\n",
    "import imblearn\n",
    "from sklearn.pipeline import make_pipeline\n",
    "from imblearn.under_sampling import EditedNearestNeighbours\n",
    "from imblearn.over_sampling import SMOTE\n",
    "from imblearn.pipeline import Pipeline\n",
    "from sklearn.datasets import make_classification\n",
    "from collections import Counter\n"
   ]
  },
  {
   "cell_type": "code",
   "execution_count": 48,
   "id": "96ddf5bc",
   "metadata": {},
   "outputs": [
    {
     "name": "stdout",
     "output_type": "stream",
     "text": [
      "Original dataset shape Counter({0: 146382, 1: 77899})\n",
      "Resampled dataset shape Counter({1: 124425, 0: 124425})\n"
     ]
    }
   ],
   "source": [
    "smote = SMOTE(sampling_strategy='auto', random_state=0)\n",
    "\n",
    "# Apply the pipeline\n",
    "X_train1, y_train1 = smote.fit_resample(X_train, y_train)\n",
    "\n",
    "print(f\"Original dataset shape {Counter(y)}\")\n",
    "print(f\"Resampled dataset shape {Counter(y_train1)}\")"
   ]
  },
  {
   "cell_type": "code",
   "execution_count": 49,
   "id": "2e47fc6e",
   "metadata": {},
   "outputs": [],
   "source": [
    "#Feature scaling\n",
    "\n",
    "from sklearn.preprocessing import MinMaxScaler\n",
    "\n",
    "scaler = MinMaxScaler()\n",
    "X_train1 = scaler.fit_transform(X_train1)\n",
    "X_test = scaler.transform(X_test)"
   ]
  },
  {
   "cell_type": "markdown",
   "id": "07c60436",
   "metadata": {},
   "source": [
    "### Model a: Decision Trees"
   ]
  },
  {
   "cell_type": "code",
   "execution_count": 50,
   "id": "f5ecbfd9",
   "metadata": {},
   "outputs": [
    {
     "data": {
      "text/html": [
       "<div>\n",
       "<style scoped>\n",
       "    .dataframe tbody tr th:only-of-type {\n",
       "        vertical-align: middle;\n",
       "    }\n",
       "\n",
       "    .dataframe tbody tr th {\n",
       "        vertical-align: top;\n",
       "    }\n",
       "\n",
       "    .dataframe thead th {\n",
       "        text-align: right;\n",
       "    }\n",
       "</style>\n",
       "<table border=\"1\" class=\"dataframe\">\n",
       "  <thead>\n",
       "    <tr style=\"text-align: right;\">\n",
       "      <th></th>\n",
       "      <th>Model</th>\n",
       "      <th>Accuracy</th>\n",
       "      <th>Precision</th>\n",
       "      <th>Recall</th>\n",
       "      <th>f1_score</th>\n",
       "    </tr>\n",
       "  </thead>\n",
       "  <tbody>\n",
       "    <tr>\n",
       "      <th>0</th>\n",
       "      <td>Decision Tree</td>\n",
       "      <td>1</td>\n",
       "      <td>1</td>\n",
       "      <td>1</td>\n",
       "      <td>1</td>\n",
       "    </tr>\n",
       "    <tr>\n",
       "      <th>1</th>\n",
       "      <td>Random Forest</td>\n",
       "      <td>0</td>\n",
       "      <td>0</td>\n",
       "      <td>0</td>\n",
       "      <td>0</td>\n",
       "    </tr>\n",
       "    <tr>\n",
       "      <th>2</th>\n",
       "      <td>LGBM</td>\n",
       "      <td>0</td>\n",
       "      <td>0</td>\n",
       "      <td>0</td>\n",
       "      <td>0</td>\n",
       "    </tr>\n",
       "    <tr>\n",
       "      <th>3</th>\n",
       "      <td>XGBOOST</td>\n",
       "      <td>0</td>\n",
       "      <td>0</td>\n",
       "      <td>0</td>\n",
       "      <td>0</td>\n",
       "    </tr>\n",
       "    <tr>\n",
       "      <th>4</th>\n",
       "      <td>Polynomial SVC</td>\n",
       "      <td>0</td>\n",
       "      <td>0</td>\n",
       "      <td>0</td>\n",
       "      <td>0</td>\n",
       "    </tr>\n",
       "    <tr>\n",
       "      <th>5</th>\n",
       "      <td>MLP</td>\n",
       "      <td>0</td>\n",
       "      <td>0</td>\n",
       "      <td>0</td>\n",
       "      <td>0</td>\n",
       "    </tr>\n",
       "    <tr>\n",
       "      <th>6</th>\n",
       "      <td>Ada Boost</td>\n",
       "      <td>0</td>\n",
       "      <td>0</td>\n",
       "      <td>0</td>\n",
       "      <td>0</td>\n",
       "    </tr>\n",
       "    <tr>\n",
       "      <th>7</th>\n",
       "      <td>Logistic Regression</td>\n",
       "      <td>0</td>\n",
       "      <td>0</td>\n",
       "      <td>0</td>\n",
       "      <td>0</td>\n",
       "    </tr>\n",
       "  </tbody>\n",
       "</table>\n",
       "</div>"
      ],
      "text/plain": [
       "                 Model  Accuracy  Precision  Recall  f1_score\n",
       "0        Decision Tree         1          1       1         1\n",
       "1        Random Forest         0          0       0         0\n",
       "2                 LGBM         0          0       0         0\n",
       "3              XGBOOST         0          0       0         0\n",
       "4       Polynomial SVC         0          0       0         0\n",
       "5                  MLP         0          0       0         0\n",
       "6            Ada Boost         0          0       0         0\n",
       "7  Logistic Regression         0          0       0         0"
      ]
     },
     "execution_count": 50,
     "metadata": {},
     "output_type": "execute_result"
    }
   ],
   "source": [
    "# Training model with our training dataset\n",
    "\n",
    "tree= DecisionTreeClassifier(max_depth=5,min_samples_split=20)\n",
    "\n",
    "tree = tree.fit(X_train1, y_train1)\n",
    "\n",
    "# Prediction based on the model created above\n",
    "\n",
    "y_pred= tree.predict(X_test)\n",
    "\n",
    "#Print metrics\n",
    "\n",
    "model_results('Decision Tree', y_test,y_pred)"
   ]
  },
  {
   "cell_type": "code",
   "execution_count": null,
   "id": "26e25c9e",
   "metadata": {},
   "outputs": [],
   "source": []
  },
  {
   "cell_type": "markdown",
   "id": "b12ab723",
   "metadata": {},
   "source": [
    "### Model b: Random Forest"
   ]
  },
  {
   "cell_type": "code",
   "execution_count": 51,
   "id": "f996f116",
   "metadata": {
    "scrolled": true
   },
   "outputs": [
    {
     "data": {
      "image/png": "[encoded data removed]",
      "text/plain": [
       "<Figure size 600x400 with 1 Axes>"
      ]
     },
     "metadata": {},
     "output_type": "display_data"
    },
    {
     "name": "stdout",
     "output_type": "stream",
     "text": [
      "confusion_matrix\n",
      "\n",
      " [[21957     0]\n",
      " [    0 11686]]\n",
      "\n",
      "True Negatives (TN) =  21957\n",
      "\n",
      "True Negatives (TN) =  11686\n",
      "\n",
      "False Positives (FP) =  0\n",
      "\n",
      "False Negatives (FN) =  0\n",
      "                 Model  Accuracy  Precision  Recall  f1_score\n",
      "0        Decision Tree         1          1       1         1\n",
      "1        Random Forest         1          1       1         1\n",
      "2                 LGBM         0          0       0         0\n",
      "3              XGBOOST         0          0       0         0\n",
      "4       Polynomial SVC         0          0       0         0\n",
      "5                  MLP         0          0       0         0\n",
      "6            Ada Boost         0          0       0         0\n",
      "7  Logistic Regression         0          0       0         0\n",
      "              precision    recall  f1-score   support\n",
      "\n",
      "           0       1.00      1.00      1.00     21957\n",
      "           1       1.00      1.00      1.00     11686\n",
      "\n",
      "    accuracy                           1.00     33643\n",
      "   macro avg       1.00      1.00      1.00     33643\n",
      "weighted avg       1.00      1.00      1.00     33643\n",
      "\n"
     ]
    }
   ],
   "source": [
    "# Create model\n",
    "\n",
    "forest = RandomForestClassifier(random_state=60, min_samples_split=30,\n",
    "                                max_depth=6, max_leaf_nodes=9, n_estimators=25, max_features='log2')\n",
    "\n",
    "\n",
    "forest = forest.fit(X_train1, y_train1)\n",
    "\n",
    "# Prediction\n",
    "\n",
    "y_pred_rf = forest.predict(X_test)\n",
    "\n",
    "cm = confusion_matrix(y_test, y_pred_rf)\n",
    "plt.figure(figsize = (6,4))\n",
    "sns.heatmap(cm, annot = True, annot_kws= {\"size\": 25}, fmt= \"d\", cmap =\"viridis\", cbar=False)\n",
    "plt.show()\n",
    "\n",
    "cm = confusion_matrix(y_test, y_pred_rf)\n",
    "print(\"confusion_matrix\\n\\n\", cm)\n",
    "print(\"\\nTrue Negatives (TN) = \", cm[0,0])\n",
    "print(\"\\nTrue Negatives (TN) = \", cm[1,1])\n",
    "print(\"\\nFalse Positives (FP) = \", cm[0,1])\n",
    "print(\"\\nFalse Negatives (FN) = \", cm[1,0])\n",
    "\n",
    "\n",
    "print(model_results('Random Forest', y_test,y_pred_rf))\n",
    "\n",
    "print(classification_report(y_pred_rf, y_test))"
   ]
  },
  {
   "cell_type": "code",
   "execution_count": null,
   "id": "df3b0346",
   "metadata": {},
   "outputs": [],
   "source": []
  },
  {
   "cell_type": "code",
   "execution_count": null,
   "id": "b3627de5",
   "metadata": {},
   "outputs": [],
   "source": [
    "# Tuning Parameters\n",
    "\n",
    "param_grid = { \n",
    "    'n_estimators': [25, 50, 100, 150], \n",
    "    'max_features': ['sqrt', 'log2', None], \n",
    "    'max_depth': [3, 6, 9], \n",
    "    'max_leaf_nodes': [3, 6, 9], \n",
    "}"
   ]
  },
  {
   "cell_type": "code",
   "execution_count": null,
   "id": "2d3d16b9",
   "metadata": {},
   "outputs": [],
   "source": [
    "#Hyperparameter Tuning- GridSearchCV\n",
    "from sklearn.model_selection import GridSearchCV,RandomizedSearchCV \n",
    "\n",
    "grid_search = GridSearchCV(RandomForestClassifier(), \n",
    "                           param_grid=param_grid) \n",
    "grid_search.fit(X_train, y_train) \n",
    "print(grid_search.best_estimator_) "
   ]
  },
  {
   "cell_type": "code",
   "execution_count": null,
   "id": "d8ab7622",
   "metadata": {},
   "outputs": [],
   "source": [
    "# Update the model\n",
    "\n",
    "model_grid = RandomForestClassifier(max_depth=6, \n",
    "                                    max_features=\"log2\", \n",
    "                                    max_leaf_nodes=6, \n",
    "                                    n_estimators=25) \n",
    "model_grid.fit(X_train, y_train) \n",
    "y_pred_grid = forest.predict(X_test) \n",
    "print(classification_report(y_pred_grid, y_test))"
   ]
  },
  {
   "cell_type": "code",
   "execution_count": null,
   "id": "6e4e11b2",
   "metadata": {},
   "outputs": [],
   "source": []
  },
  {
   "cell_type": "code",
   "execution_count": null,
   "id": "3eb520af",
   "metadata": {},
   "outputs": [],
   "source": [
    "#Hyperparameter Tuning- RandomizedSearchCV\n",
    "\n",
    "random_search = RandomizedSearchCV(RandomForestClassifier(), \n",
    "                                   param_grid) \n",
    "random_search.fit(X_train, y_train) \n",
    "print(random_search.best_estimator_) "
   ]
  },
  {
   "cell_type": "code",
   "execution_count": null,
   "id": "f4d22256",
   "metadata": {},
   "outputs": [],
   "source": [
    "# Update the model\n",
    "model_random = RandomForestClassifier(max_depth=9, \n",
    "                                      max_features='log2', \n",
    "                                      max_leaf_nodes=6, \n",
    "                                      n_estimators=25) \n",
    "model_random.fit(X_train, y_train) \n",
    "y_pred_rand = forest.predict(X_test) \n",
    "print(classification_report(y_pred_rand, y_test))"
   ]
  },
  {
   "cell_type": "code",
   "execution_count": null,
   "id": "5a756a8c",
   "metadata": {},
   "outputs": [],
   "source": []
  },
  {
   "cell_type": "markdown",
   "id": "586480ed",
   "metadata": {},
   "source": [
    "### Model c: Ada-Boost"
   ]
  },
  {
   "cell_type": "code",
   "execution_count": 52,
   "id": "5894b89c",
   "metadata": {},
   "outputs": [
    {
     "name": "stdout",
     "output_type": "stream",
     "text": [
      "The Precision score is: .1.00\n",
      "The Recall score is: .1.00\n",
      "The F1 score is: .1.00\n",
      "The Accuracy score is: .1.00\n"
     ]
    }
   ],
   "source": [
    "# Adaboost Needs a simple decision tree in its constructor. Tweak the max_length and see how it influences the process\n",
    "\n",
    "ada_boost = AdaBoostClassifier(DecisionTreeClassifier(max_depth=5),\n",
    "                               random_state=60)\n",
    "\n",
    "# fit the model to our train data\n",
    "\n",
    "ada_boost = ada_boost.fit(X_train,y_train)\n",
    "\n",
    "#Making Predictions \n",
    "y_pred_ada = ada_boost.predict(X_test)\n",
    "\n",
    "#Print metrics\n",
    "#model_results('Ada Boost', y_test,y_pred)\n",
    "\n",
    "# Metrics\n",
    "print(\"The Precision score is: .%.2f\" % precision_score(y_test, y_pred_ada))\n",
    "print(\"The Recall score is: .%.2f\" % recall_score(y_test, y_pred_ada))\n",
    "print(\"The F1 score is: .%.2f\" % f1_score(y_test, y_pred_ada))\n",
    "print(\"The Accuracy score is: .%.2f\" % accuracy_score(y_test, y_pred_ada))"
   ]
  },
  {
   "cell_type": "code",
   "execution_count": 53,
   "id": "01fb088d",
   "metadata": {},
   "outputs": [
    {
     "name": "stdout",
     "output_type": "stream",
     "text": [
      "                 Model  Accuracy  Precision  Recall  f1_score\n",
      "0        Decision Tree         1          1       1         1\n",
      "1        Random Forest         1          1       1         1\n",
      "2                 LGBM         0          0       0         0\n",
      "3              XGBOOST         0          0       0         0\n",
      "4       Polynomial SVC         0          0       0         0\n",
      "5                  MLP         0          0       0         0\n",
      "6            Ada Boost         1          1       1         1\n",
      "7  Logistic Regression         0          0       0         0\n"
     ]
    }
   ],
   "source": [
    "print(model_results('Ada Boost', y_test,y_pred_ada))\n"
   ]
  },
  {
   "cell_type": "code",
   "execution_count": null,
   "id": "263a7438",
   "metadata": {},
   "outputs": [],
   "source": []
  },
  {
   "cell_type": "markdown",
   "id": "a88c7805",
   "metadata": {},
   "source": [
    "#### Model d: LGBM"
   ]
  },
  {
   "cell_type": "code",
   "execution_count": 54,
   "id": "96a6f060",
   "metadata": {},
   "outputs": [
    {
     "name": "stdout",
     "output_type": "stream",
     "text": [
      "Requirement already satisfied: tabgan==1.3.3 in c:\\users\\pmmunyao\\appdata\\local\\anaconda3\\lib\\site-packages (1.3.3)\n",
      "Requirement already satisfied: pandas in c:\\users\\pmmunyao\\appdata\\local\\anaconda3\\lib\\site-packages (from tabgan==1.3.3) (2.2.2)\n",
      "Requirement already satisfied: numpy in c:\\users\\pmmunyao\\appdata\\local\\anaconda3\\lib\\site-packages (from tabgan==1.3.3) (1.24.3)\n",
      "Requirement already satisfied: category-encoders in c:\\users\\pmmunyao\\appdata\\local\\anaconda3\\lib\\site-packages (from tabgan==1.3.3) (2.6.3)\n",
      "Requirement already satisfied: torch>=1.0 in c:\\users\\pmmunyao\\appdata\\local\\anaconda3\\lib\\site-packages (from tabgan==1.3.3) (2.2.2)\n",
      "Requirement already satisfied: lightgbm>=2.2.3 in c:\\users\\pmmunyao\\appdata\\local\\anaconda3\\lib\\site-packages (from tabgan==1.3.3) (4.3.0)\n",
      "Requirement already satisfied: scikit-learn>=1.0.2 in c:\\users\\pmmunyao\\appdata\\local\\anaconda3\\lib\\site-packages (from tabgan==1.3.3) (1.2.2)\n",
      "Requirement already satisfied: torchvision in c:\\users\\pmmunyao\\appdata\\local\\anaconda3\\lib\\site-packages (from tabgan==1.3.3) (0.17.2)\n",
      "Requirement already satisfied: python-dateutil in c:\\users\\pmmunyao\\appdata\\local\\anaconda3\\lib\\site-packages (from tabgan==1.3.3) (2.8.2)\n",
      "Requirement already satisfied: tqdm in c:\\users\\pmmunyao\\appdata\\local\\anaconda3\\lib\\site-packages (from tabgan==1.3.3) (4.65.0)\n",
      "Requirement already satisfied: scipy in c:\\users\\pmmunyao\\appdata\\local\\anaconda3\\lib\\site-packages (from lightgbm>=2.2.3->tabgan==1.3.3) (1.10.1)\n",
      "Requirement already satisfied: joblib>=1.1.1 in c:\\users\\pmmunyao\\appdata\\local\\anaconda3\\lib\\site-packages (from scikit-learn>=1.0.2->tabgan==1.3.3) (1.2.0)\n",
      "Requirement already satisfied: threadpoolctl>=2.0.0 in c:\\users\\pmmunyao\\appdata\\local\\anaconda3\\lib\\site-packages (from scikit-learn>=1.0.2->tabgan==1.3.3) (3.5.0)\n",
      "Requirement already satisfied: filelock in c:\\users\\pmmunyao\\appdata\\local\\anaconda3\\lib\\site-packages (from torch>=1.0->tabgan==1.3.3) (3.9.0)\n",
      "Requirement already satisfied: typing-extensions>=4.8.0 in c:\\users\\pmmunyao\\appdata\\local\\anaconda3\\lib\\site-packages (from torch>=1.0->tabgan==1.3.3) (4.11.0)\n",
      "Requirement already satisfied: sympy in c:\\users\\pmmunyao\\appdata\\local\\anaconda3\\lib\\site-packages (from torch>=1.0->tabgan==1.3.3) (1.11.1)\n",
      "Requirement already satisfied: networkx in c:\\users\\pmmunyao\\appdata\\local\\anaconda3\\lib\\site-packages (from torch>=1.0->tabgan==1.3.3) (3.1)\n",
      "Requirement already satisfied: jinja2 in c:\\users\\pmmunyao\\appdata\\local\\anaconda3\\lib\\site-packages (from torch>=1.0->tabgan==1.3.3) (3.1.2)\n",
      "Requirement already satisfied: fsspec in c:\\users\\pmmunyao\\appdata\\local\\anaconda3\\lib\\site-packages (from torch>=1.0->tabgan==1.3.3) (2023.3.0)\n",
      "Requirement already satisfied: statsmodels>=0.9.0 in c:\\users\\pmmunyao\\appdata\\local\\anaconda3\\lib\\site-packages (from category-encoders->tabgan==1.3.3) (0.14.0)\n",
      "Requirement already satisfied: patsy>=0.5.1 in c:\\users\\pmmunyao\\appdata\\local\\anaconda3\\lib\\site-packages (from category-encoders->tabgan==1.3.3) (0.5.3)\n",
      "Requirement already satisfied: pytz>=2020.1 in c:\\users\\pmmunyao\\appdata\\local\\anaconda3\\lib\\site-packages (from pandas->tabgan==1.3.3) (2022.7)\n",
      "Requirement already satisfied: tzdata>=2022.7 in c:\\users\\pmmunyao\\appdata\\local\\anaconda3\\lib\\site-packages (from pandas->tabgan==1.3.3) (2024.1)\n",
      "Requirement already satisfied: six>=1.5 in c:\\users\\pmmunyao\\appdata\\local\\anaconda3\\lib\\site-packages (from python-dateutil->tabgan==1.3.3) (1.16.0)\n",
      "Requirement already satisfied: pillow!=8.3.*,>=5.3.0 in c:\\users\\pmmunyao\\appdata\\local\\anaconda3\\lib\\site-packages (from torchvision->tabgan==1.3.3) (9.4.0)\n",
      "Requirement already satisfied: colorama in c:\\users\\pmmunyao\\appdata\\local\\anaconda3\\lib\\site-packages (from tqdm->tabgan==1.3.3) (0.4.6)\n",
      "Requirement already satisfied: packaging>=21.3 in c:\\users\\pmmunyao\\appdata\\local\\anaconda3\\lib\\site-packages (from statsmodels>=0.9.0->category-encoders->tabgan==1.3.3) (23.0)\n",
      "Requirement already satisfied: MarkupSafe>=2.0 in c:\\users\\pmmunyao\\appdata\\local\\anaconda3\\lib\\site-packages (from jinja2->torch>=1.0->tabgan==1.3.3) (2.1.1)\n",
      "Requirement already satisfied: mpmath>=0.19 in c:\\users\\pmmunyao\\appdata\\local\\anaconda3\\lib\\site-packages (from sympy->torch>=1.0->tabgan==1.3.3) (1.3.0)\n",
      "Requirement already satisfied: tabgan==1.3.3 in c:\\users\\pmmunyao\\appdata\\local\\anaconda3\\lib\\site-packages (1.3.3)\n",
      "Requirement already satisfied: pandas in c:\\users\\pmmunyao\\appdata\\local\\anaconda3\\lib\\site-packages (from tabgan==1.3.3) (2.2.2)\n",
      "Requirement already satisfied: numpy in c:\\users\\pmmunyao\\appdata\\local\\anaconda3\\lib\\site-packages (from tabgan==1.3.3) (1.24.3)\n",
      "Requirement already satisfied: category-encoders in c:\\users\\pmmunyao\\appdata\\local\\anaconda3\\lib\\site-packages (from tabgan==1.3.3) (2.6.3)\n",
      "Requirement already satisfied: torch>=1.0 in c:\\users\\pmmunyao\\appdata\\local\\anaconda3\\lib\\site-packages (from tabgan==1.3.3) (2.2.2)\n",
      "Requirement already satisfied: lightgbm>=2.2.3 in c:\\users\\pmmunyao\\appdata\\local\\anaconda3\\lib\\site-packages (from tabgan==1.3.3) (4.3.0)\n",
      "Requirement already satisfied: scikit-learn>=1.0.2 in c:\\users\\pmmunyao\\appdata\\local\\anaconda3\\lib\\site-packages (from tabgan==1.3.3) (1.2.2)\n",
      "Requirement already satisfied: torchvision in c:\\users\\pmmunyao\\appdata\\local\\anaconda3\\lib\\site-packages (from tabgan==1.3.3) (0.17.2)\n",
      "Requirement already satisfied: python-dateutil in c:\\users\\pmmunyao\\appdata\\local\\anaconda3\\lib\\site-packages (from tabgan==1.3.3) (2.8.2)\n",
      "Requirement already satisfied: tqdm in c:\\users\\pmmunyao\\appdata\\local\\anaconda3\\lib\\site-packages (from tabgan==1.3.3) (4.65.0)\n",
      "Requirement already satisfied: scipy in c:\\users\\pmmunyao\\appdata\\local\\anaconda3\\lib\\site-packages (from lightgbm>=2.2.3->tabgan==1.3.3) (1.10.1)\n",
      "Requirement already satisfied: joblib>=1.1.1 in c:\\users\\pmmunyao\\appdata\\local\\anaconda3\\lib\\site-packages (from scikit-learn>=1.0.2->tabgan==1.3.3) (1.2.0)\n",
      "Requirement already satisfied: threadpoolctl>=2.0.0 in c:\\users\\pmmunyao\\appdata\\local\\anaconda3\\lib\\site-packages (from scikit-learn>=1.0.2->tabgan==1.3.3) (3.5.0)\n",
      "Requirement already satisfied: filelock in c:\\users\\pmmunyao\\appdata\\local\\anaconda3\\lib\\site-packages (from torch>=1.0->tabgan==1.3.3) (3.9.0)\n",
      "Requirement already satisfied: typing-extensions>=4.8.0 in c:\\users\\pmmunyao\\appdata\\local\\anaconda3\\lib\\site-packages (from torch>=1.0->tabgan==1.3.3) (4.11.0)\n",
      "Requirement already satisfied: sympy in c:\\users\\pmmunyao\\appdata\\local\\anaconda3\\lib\\site-packages (from torch>=1.0->tabgan==1.3.3) (1.11.1)\n",
      "Requirement already satisfied: networkx in c:\\users\\pmmunyao\\appdata\\local\\anaconda3\\lib\\site-packages (from torch>=1.0->tabgan==1.3.3) (3.1)\n",
      "Requirement already satisfied: jinja2 in c:\\users\\pmmunyao\\appdata\\local\\anaconda3\\lib\\site-packages (from torch>=1.0->tabgan==1.3.3) (3.1.2)\n",
      "Requirement already satisfied: fsspec in c:\\users\\pmmunyao\\appdata\\local\\anaconda3\\lib\\site-packages (from torch>=1.0->tabgan==1.3.3) (2023.3.0)\n",
      "Requirement already satisfied: statsmodels>=0.9.0 in c:\\users\\pmmunyao\\appdata\\local\\anaconda3\\lib\\site-packages (from category-encoders->tabgan==1.3.3) (0.14.0)\n",
      "Requirement already satisfied: patsy>=0.5.1 in c:\\users\\pmmunyao\\appdata\\local\\anaconda3\\lib\\site-packages (from category-encoders->tabgan==1.3.3) (0.5.3)\n",
      "Requirement already satisfied: pytz>=2020.1 in c:\\users\\pmmunyao\\appdata\\local\\anaconda3\\lib\\site-packages (from pandas->tabgan==1.3.3) (2022.7)\n",
      "Requirement already satisfied: tzdata>=2022.7 in c:\\users\\pmmunyao\\appdata\\local\\anaconda3\\lib\\site-packages (from pandas->tabgan==1.3.3) (2024.1)\n",
      "Requirement already satisfied: six>=1.5 in c:\\users\\pmmunyao\\appdata\\local\\anaconda3\\lib\\site-packages (from python-dateutil->tabgan==1.3.3) (1.16.0)\n",
      "Requirement already satisfied: pillow!=8.3.*,>=5.3.0 in c:\\users\\pmmunyao\\appdata\\local\\anaconda3\\lib\\site-packages (from torchvision->tabgan==1.3.3) (9.4.0)\n",
      "Requirement already satisfied: colorama in c:\\users\\pmmunyao\\appdata\\local\\anaconda3\\lib\\site-packages (from tqdm->tabgan==1.3.3) (0.4.6)\n",
      "Requirement already satisfied: packaging>=21.3 in c:\\users\\pmmunyao\\appdata\\local\\anaconda3\\lib\\site-packages (from statsmodels>=0.9.0->category-encoders->tabgan==1.3.3) (23.0)\n",
      "Requirement already satisfied: MarkupSafe>=2.0 in c:\\users\\pmmunyao\\appdata\\local\\anaconda3\\lib\\site-packages (from jinja2->torch>=1.0->tabgan==1.3.3) (2.1.1)\n",
      "Requirement already satisfied: mpmath>=0.19 in c:\\users\\pmmunyao\\appdata\\local\\anaconda3\\lib\\site-packages (from sympy->torch>=1.0->tabgan==1.3.3) (1.3.0)\n"
     ]
    }
   ],
   "source": [
    "#!pip install lightgbm\n",
    "\n",
    "!pip install tabgan==1.3.3\n",
    "!pip install --trusted-host pypi.org --trusted-host files.pythonhosted.org tabgan==1.3.3"
   ]
  },
  {
   "cell_type": "code",
   "execution_count": 78,
   "id": "a0c5715c",
   "metadata": {},
   "outputs": [
    {
     "name": "stdout",
     "output_type": "stream",
     "text": [
      "[LightGBM] [Info] Number of positive: 66213, number of negative: 124425\n",
      "[LightGBM] [Info] Auto-choosing row-wise multi-threading, the overhead of testing was 0.005373 seconds.\n",
      "You can set `force_row_wise=true` to remove the overhead.\n",
      "And if memory is not enough, you can set `force_col_wise=true`.\n",
      "[LightGBM] [Info] Total Bins 12\n",
      "[LightGBM] [Info] Number of data points in the train set: 190638, number of used features: 6\n",
      "[LightGBM] [Info] [binary:BoostFromScore]: pavg=0.347323 -> initscore=-0.630826\n",
      "[LightGBM] [Info] Start training from score -0.630826\n",
      "[LightGBM] [Warning] No further splits with positive gain, best gain: -inf\n",
      "[LightGBM] [Warning] No further splits with positive gain, best gain: -inf\n",
      "[LightGBM] [Warning] No further splits with positive gain, best gain: -inf\n",
      "[LightGBM] [Warning] No further splits with positive gain, best gain: -inf\n",
      "[LightGBM] [Warning] No further splits with positive gain, best gain: -inf\n",
      "[LightGBM] [Warning] No further splits with positive gain, best gain: -inf\n",
      "[LightGBM] [Warning] No further splits with positive gain, best gain: -inf\n",
      "[LightGBM] [Warning] No further splits with positive gain, best gain: -inf\n",
      "[LightGBM] [Warning] No further splits with positive gain, best gain: -inf\n",
      "[LightGBM] [Warning] No further splits with positive gain, best gain: -inf\n",
      "[LightGBM] [Warning] No further splits with positive gain, best gain: -inf\n",
      "[LightGBM] [Warning] No further splits with positive gain, best gain: -inf\n",
      "[LightGBM] [Warning] No further splits with positive gain, best gain: -inf\n",
      "[LightGBM] [Warning] No further splits with positive gain, best gain: -inf\n",
      "[LightGBM] [Warning] No further splits with positive gain, best gain: -inf\n",
      "[LightGBM] [Warning] No further splits with positive gain, best gain: -inf\n",
      "[LightGBM] [Warning] No further splits with positive gain, best gain: -inf\n",
      "[LightGBM] [Warning] No further splits with positive gain, best gain: -inf\n",
      "[LightGBM] [Warning] No further splits with positive gain, best gain: -inf\n",
      "[LightGBM] [Warning] No further splits with positive gain, best gain: -inf\n",
      "[LightGBM] [Warning] No further splits with positive gain, best gain: -inf\n",
      "[LightGBM] [Warning] No further splits with positive gain, best gain: -inf\n",
      "[LightGBM] [Warning] No further splits with positive gain, best gain: -inf\n",
      "[LightGBM] [Warning] No further splits with positive gain, best gain: -inf\n",
      "[LightGBM] [Warning] No further splits with positive gain, best gain: -inf\n",
      "[LightGBM] [Warning] No further splits with positive gain, best gain: -inf\n",
      "[LightGBM] [Warning] No further splits with positive gain, best gain: -inf\n",
      "[LightGBM] [Warning] No further splits with positive gain, best gain: -inf\n",
      "[LightGBM] [Warning] No further splits with positive gain, best gain: -inf\n",
      "[LightGBM] [Warning] No further splits with positive gain, best gain: -inf\n",
      "[LightGBM] [Warning] No further splits with positive gain, best gain: -inf\n",
      "[LightGBM] [Warning] No further splits with positive gain, best gain: -inf\n",
      "[LightGBM] [Warning] No further splits with positive gain, best gain: -inf\n",
      "[LightGBM] [Warning] No further splits with positive gain, best gain: -inf\n",
      "[LightGBM] [Warning] No further splits with positive gain, best gain: -inf\n",
      "[LightGBM] [Warning] No further splits with positive gain, best gain: -inf\n",
      "[LightGBM] [Warning] No further splits with positive gain, best gain: -inf\n",
      "[LightGBM] [Warning] No further splits with positive gain, best gain: -inf\n",
      "[LightGBM] [Warning] No further splits with positive gain, best gain: -inf\n",
      "[LightGBM] [Warning] No further splits with positive gain, best gain: -inf\n",
      "[LightGBM] [Warning] No further splits with positive gain, best gain: -inf\n",
      "[LightGBM] [Warning] No further splits with positive gain, best gain: -inf\n",
      "[LightGBM] [Warning] No further splits with positive gain, best gain: -inf\n",
      "[LightGBM] [Warning] No further splits with positive gain, best gain: -inf\n",
      "[LightGBM] [Warning] No further splits with positive gain, best gain: -inf\n",
      "[LightGBM] [Warning] No further splits with positive gain, best gain: -inf\n",
      "[LightGBM] [Warning] No further splits with positive gain, best gain: -inf\n",
      "[LightGBM] [Warning] No further splits with positive gain, best gain: -inf\n",
      "[LightGBM] [Warning] No further splits with positive gain, best gain: -inf\n",
      "[LightGBM] [Warning] No further splits with positive gain, best gain: -inf\n",
      "[LightGBM] [Warning] No further splits with positive gain, best gain: -inf\n",
      "[LightGBM] [Warning] No further splits with positive gain, best gain: -inf\n",
      "[LightGBM] [Warning] No further splits with positive gain, best gain: -inf\n",
      "[LightGBM] [Warning] No further splits with positive gain, best gain: -inf\n",
      "[LightGBM] [Warning] No further splits with positive gain, best gain: -inf\n",
      "[LightGBM] [Warning] No further splits with positive gain, best gain: -inf\n",
      "[LightGBM] [Warning] No further splits with positive gain, best gain: -inf\n",
      "[LightGBM] [Warning] No further splits with positive gain, best gain: -inf\n",
      "[LightGBM] [Warning] No further splits with positive gain, best gain: -inf\n",
      "[LightGBM] [Warning] No further splits with positive gain, best gain: -inf\n",
      "[LightGBM] [Warning] No further splits with positive gain, best gain: -inf\n",
      "[LightGBM] [Warning] No further splits with positive gain, best gain: -inf\n",
      "[LightGBM] [Warning] No further splits with positive gain, best gain: -inf\n",
      "[LightGBM] [Warning] No further splits with positive gain, best gain: -inf\n",
      "[LightGBM] [Warning] No further splits with positive gain, best gain: -inf\n",
      "[LightGBM] [Warning] No further splits with positive gain, best gain: -inf\n",
      "[LightGBM] [Warning] No further splits with positive gain, best gain: -inf\n",
      "[LightGBM] [Warning] No further splits with positive gain, best gain: -inf\n",
      "[LightGBM] [Warning] No further splits with positive gain, best gain: -inf\n",
      "[LightGBM] [Warning] No further splits with positive gain, best gain: -inf\n",
      "[LightGBM] [Warning] No further splits with positive gain, best gain: -inf\n",
      "[LightGBM] [Warning] No further splits with positive gain, best gain: -inf\n",
      "[LightGBM] [Warning] No further splits with positive gain, best gain: -inf\n",
      "[LightGBM] [Warning] No further splits with positive gain, best gain: -inf\n",
      "[LightGBM] [Warning] No further splits with positive gain, best gain: -inf\n",
      "[LightGBM] [Warning] No further splits with positive gain, best gain: -inf\n",
      "[LightGBM] [Warning] No further splits with positive gain, best gain: -inf\n",
      "[LightGBM] [Warning] No further splits with positive gain, best gain: -inf\n",
      "[LightGBM] [Warning] No further splits with positive gain, best gain: -inf\n",
      "[LightGBM] [Warning] No further splits with positive gain, best gain: -inf\n",
      "[LightGBM] [Warning] No further splits with positive gain, best gain: -inf\n",
      "[LightGBM] [Warning] No further splits with positive gain, best gain: -inf\n",
      "[LightGBM] [Warning] No further splits with positive gain, best gain: -inf\n",
      "[LightGBM] [Warning] No further splits with positive gain, best gain: -inf\n",
      "[LightGBM] [Warning] No further splits with positive gain, best gain: -inf\n",
      "[LightGBM] [Warning] No further splits with positive gain, best gain: -inf\n",
      "[LightGBM] [Warning] No further splits with positive gain, best gain: -inf\n",
      "[LightGBM] [Warning] No further splits with positive gain, best gain: -inf\n",
      "[LightGBM] [Warning] No further splits with positive gain, best gain: -inf\n",
      "[LightGBM] [Warning] No further splits with positive gain, best gain: -inf\n",
      "[LightGBM] [Warning] No further splits with positive gain, best gain: -inf\n",
      "[LightGBM] [Warning] No further splits with positive gain, best gain: -inf\n",
      "[LightGBM] [Warning] No further splits with positive gain, best gain: -inf\n",
      "[LightGBM] [Warning] No further splits with positive gain, best gain: -inf\n",
      "[LightGBM] [Warning] No further splits with positive gain, best gain: -inf\n",
      "[LightGBM] [Warning] No further splits with positive gain, best gain: -inf\n",
      "[LightGBM] [Warning] No further splits with positive gain, best gain: -inf\n",
      "[LightGBM] [Warning] No further splits with positive gain, best gain: -inf\n",
      "[LightGBM] [Warning] No further splits with positive gain, best gain: -inf\n",
      "[LightGBM] [Warning] No further splits with positive gain, best gain: -inf\n",
      "LightGBM Model accuracy score: 1.0000\n",
      "Training-set accuracy score: 1.0000\n",
      "Training set score: 1.0000\n",
      "Test set score: 1.0000\n"
     ]
    }
   ],
   "source": [
    "# build the lightgbm model\n",
    "\n",
    "import lightgbm as lgb\n",
    "\n",
    "clf_lgbm = lgb.LGBMClassifier(learning_rate=0.05,max_depth=10,num_leaves=100,objective='binary', boosting_type='dart', random_state=42,)\n",
    "\n",
    "clf_lgbm.fit(X_train,y_train,eval_set=[(X_test,y_test),(X_train,y_train)],eval_metric='logloss')\n",
    "\n",
    "\n",
    "# predict the results\n",
    "\n",
    "y_pred_lgb=clf_lgbm.predict(X_test)\n",
    "\n",
    "\n",
    "# Convert probabilities into 1 and 0\n",
    "for i in range(0,X_test.shape[0]):\n",
    "    if y_pred_lgb[i]>=.8:\n",
    "        y_pred_lgb[i] = 1\n",
    "    else:\n",
    "        y_pred_lgb[i] = 0\n",
    "        \n",
    "    \n",
    "\n",
    "# view accuracy\n",
    "\n",
    "from sklearn.metrics import accuracy_score\n",
    "\n",
    "accuracy=accuracy_score( y_test,y_pred_lgb)\n",
    "\n",
    "print('LightGBM Model accuracy score: {0:0.4f}'.format(accuracy_score(y_test, y_pred_lgb)))\n",
    "\n",
    "\n",
    "# Compare train and test set accuracy\n",
    "\n",
    "\n",
    "y_pred_train= clf_lgbm.predict(X_train)\n",
    "\n",
    "\n",
    "print('Training-set accuracy score: {0:0.4f}'. format(accuracy_score(y_train, y_pred_train)))\n",
    "\n",
    "\n",
    "# Check for overfitting\n",
    "\n",
    "\n",
    "print('Training set score: {:.4f}'.format(clf_lgbm.score(X_train, y_train)))\n",
    "\n",
    "\n",
    "print('Test set score: {:.4f}'.format(clf_lgbm.score(X_test, y_test)))\n"
   ]
  },
  {
   "cell_type": "code",
   "execution_count": 79,
   "id": "d5cde94d",
   "metadata": {},
   "outputs": [
    {
     "name": "stdout",
     "output_type": "stream",
     "text": [
      "Confusion matrix\n",
      "\n",
      " [[21957     0]\n",
      " [    0 11686]]\n",
      "\n",
      "True Positives(TP) =  21957\n",
      "\n",
      "True Negatives(TN) =  11686\n",
      "\n",
      "False Positives(FP) =  0\n",
      "\n",
      "False Negatives(FN) =  0\n"
     ]
    }
   ],
   "source": [
    "# view confusion-matrix\n",
    "\n",
    "# Print the Confusion Matrix and slice it into four pieces\n",
    "\n",
    "\n",
    "from sklearn.metrics import confusion_matrix\n",
    "\n",
    "cm = confusion_matrix(y_test, y_pred_lgb)\n",
    "\n",
    "\n",
    "print('Confusion matrix\\n\\n', cm)\n",
    "print('\\nTrue Positives(TP) = ', cm[0,0])\n",
    "print('\\nTrue Negatives(TN) = ', cm[1,1])\n",
    "print('\\nFalse Positives(FP) = ', cm[0,1])\n",
    "print('\\nFalse Negatives(FN) = ', cm[1,0])\n",
    "\n"
   ]
  },
  {
   "cell_type": "code",
   "execution_count": 80,
   "id": "5f04a41f",
   "metadata": {},
   "outputs": [
    {
     "data": {
      "text/plain": [
       "<Axes: >"
      ]
     },
     "execution_count": 80,
     "metadata": {},
     "output_type": "execute_result"
    },
    {
     "data": {
      "image/png": "[encoded data removed]",
      "text/plain": [
       "<Figure size 640x480 with 2 Axes>"
      ]
     },
     "metadata": {},
     "output_type": "display_data"
    }
   ],
   "source": [
    "# visualize confusion matrix with seaborn heatmap\n",
    "\n",
    "\n",
    "cm_matrix = pd.DataFrame(data=cm, columns=['Actual Positive:1', 'Actual Negative:0'],\n",
    "\n",
    "                                 index=['Predict Positive:1', 'Predict Negative:0'])\n",
    "\n",
    "\n",
    "sns.heatmap(cm_matrix, annot=True, fmt='d', cmap='YlGnBu')"
   ]
  },
  {
   "cell_type": "code",
   "execution_count": null,
   "id": "87183e2d",
   "metadata": {},
   "outputs": [],
   "source": []
  },
  {
   "cell_type": "code",
   "execution_count": 81,
   "id": "848f980b",
   "metadata": {},
   "outputs": [
    {
     "name": "stdout",
     "output_type": "stream",
     "text": [
      "              precision    recall  f1-score   support\n",
      "\n",
      "           0       1.00      1.00      1.00     21957\n",
      "           1       1.00      1.00      1.00     11686\n",
      "\n",
      "    accuracy                           1.00     33643\n",
      "   macro avg       1.00      1.00      1.00     33643\n",
      "weighted avg       1.00      1.00      1.00     33643\n",
      "\n"
     ]
    }
   ],
   "source": [
    "#metrics.plot_confusion_matrix(clf,x_test,y_test,cmap='Blues_r')\n",
    "\n",
    "\n",
    "from sklearn.metrics import classification_report\n",
    "\n",
    "print(classification_report(y_test, y_pred_lgb))"
   ]
  },
  {
   "cell_type": "code",
   "execution_count": 82,
   "id": "f1394ed5",
   "metadata": {},
   "outputs": [
    {
     "name": "stdout",
     "output_type": "stream",
     "text": [
      "[('daily_score', 26), ('monthly_score', 39), ('odd_flag', 15), ('div_by_5', 9), ('dev_from_35k', 0), ('dev_from_140k', 100), ('airtel_telkom_trans', 10), ('knwn_fraud_msisdn', 0)]\n",
      "\n",
      "Variable: dev_from_140k        Importance: 100\n",
      "Variable: monthly_score        Importance: 39\n",
      "Variable: daily_score          Importance: 26\n",
      "Variable: odd_flag             Importance: 15\n",
      "Variable: airtel_telkom_trans  Importance: 10\n",
      "Variable: div_by_5             Importance: 9\n",
      "Variable: dev_from_35k         Importance: 0\n",
      "Variable: knwn_fraud_msisdn    Importance: 0\n"
     ]
    },
    {
     "data": {
      "text/plain": [
       "<Axes: title={'center': 'Metric during training'}, xlabel='Iterations', ylabel='binary_logloss'>"
      ]
     },
     "execution_count": 82,
     "metadata": {},
     "output_type": "execute_result"
    },
    {
     "data": {
      "image/png": "[encoded data removed]",
      "text/plain": [
       "<Figure size 640x480 with 1 Axes>"
      ]
     },
     "metadata": {},
     "output_type": "display_data"
    },
    {
     "data": {
      "image/png": "[encoded data removed]",
      "text/plain": [
       "<Figure size 640x480 with 1 Axes>"
      ]
     },
     "metadata": {},
     "output_type": "display_data"
    }
   ],
   "source": [
    "test_features = ['daily_score', 'monthly_score','odd_flag', 'div_by_5', 'dev_from_35k',\n",
    "       'dev_from_140k', 'airtel_telkom_trans','knwn_fraud_msisdn']\n",
    "\n",
    "lgb.plot_importance(clf_lgbm)\n",
    "\n",
    "# Get numerical feature importances\n",
    "\n",
    "importances = list(clf_lgbm.feature_importances_)\n",
    "\n",
    "x_columns = test_features\n",
    "\n",
    "# We now use some Python magic to connect each feature with its importance\n",
    "\n",
    "# List of tuples with variable and importance\n",
    "\n",
    "feature_importances = [(feature, round(importance, 2)) for feature, importance in zip(x_columns, importances)]\n",
    "\n",
    "\n",
    "print(feature_importances) #this already has all the information we need, but it can be tricky to see when there are too many features.\n",
    "\n",
    "print()\n",
    "\n",
    "# Nice to have: We can sort the values in descending order, since we care about the most important features first.\n",
    "\n",
    "feature_importances = sorted(feature_importances, key = lambda x: x[1], reverse = True)\n",
    "\n",
    "# Print out the feature and importances\n",
    "\n",
    "[print('Variable: {:20} Importance: {}'.format(*pair)) for pair in feature_importances];\n",
    "\n",
    "lgb.plot_metric(clf_lgbm)\n",
    "\n",
    "#lgb.plot_tree(clf,figsize=(30,40))"
   ]
  },
  {
   "cell_type": "code",
   "execution_count": 61,
   "id": "e9895a89",
   "metadata": {},
   "outputs": [
    {
     "name": "stdout",
     "output_type": "stream",
     "text": [
      "                 Model  Accuracy  Precision  Recall  f1_score\n",
      "0        Decision Tree         1          1       1         1\n",
      "1        Random Forest         1          1       1         1\n",
      "2                 LGBM         1          1       1         1\n",
      "3              XGBOOST         0          0       0         0\n",
      "4       Polynomial SVC         0          0       0         0\n",
      "5                  MLP         0          0       0         0\n",
      "6            Ada Boost         1          1       1         1\n",
      "7  Logistic Regression         0          0       0         0\n"
     ]
    }
   ],
   "source": [
    "#Print metrics\n",
    "\n",
    "print(model_results('LGBM', y_test,y_pred_lgb))"
   ]
  },
  {
   "cell_type": "code",
   "execution_count": null,
   "id": "41d68f73",
   "metadata": {},
   "outputs": [],
   "source": []
  },
  {
   "cell_type": "markdown",
   "id": "c788f171",
   "metadata": {},
   "source": [
    "#### Model e: XGBoost"
   ]
  },
  {
   "cell_type": "code",
   "execution_count": 62,
   "id": "bc751f76",
   "metadata": {},
   "outputs": [
    {
     "name": "stdout",
     "output_type": "stream",
     "text": [
      "Requirement already satisfied: xgboost in c:\\users\\pmmunyao\\appdata\\local\\anaconda3\\lib\\site-packages (2.0.3)\n",
      "Requirement already satisfied: numpy in c:\\users\\pmmunyao\\appdata\\local\\anaconda3\\lib\\site-packages (from xgboost) (1.24.3)\n",
      "Requirement already satisfied: scipy in c:\\users\\pmmunyao\\appdata\\local\\anaconda3\\lib\\site-packages (from xgboost) (1.10.1)\n",
      "Requirement already satisfied: xgboost in c:\\users\\pmmunyao\\appdata\\local\\anaconda3\\lib\\site-packages (2.0.3)\n",
      "Requirement already satisfied: numpy in c:\\users\\pmmunyao\\appdata\\local\\anaconda3\\lib\\site-packages (from xgboost) (1.24.3)\n",
      "Requirement already satisfied: scipy in c:\\users\\pmmunyao\\appdata\\local\\anaconda3\\lib\\site-packages (from xgboost) (1.10.1)\n"
     ]
    }
   ],
   "source": [
    "!pip install xgboost\n",
    "!pip install --trusted-host pypi.org --trusted-host files.pythonhosted.org xgboost"
   ]
  },
  {
   "cell_type": "code",
   "execution_count": 63,
   "id": "fcdcf3af",
   "metadata": {},
   "outputs": [
    {
     "name": "stdout",
     "output_type": "stream",
     "text": [
      "Accuracy on training set: 1.000\n",
      "[[21957     0]\n",
      " [    0 11686]]\n",
      "              precision    recall  f1-score   support\n",
      "\n",
      "           0       1.00      1.00      1.00     21957\n",
      "           1       1.00      1.00      1.00     11686\n",
      "\n",
      "    accuracy                           1.00     33643\n",
      "   macro avg       1.00      1.00      1.00     33643\n",
      "weighted avg       1.00      1.00      1.00     33643\n",
      "\n",
      "The precision score is: 1.00\n",
      "The recall score is: 1.00\n",
      "Accuracy score is: 1.00\n",
      "The F1 score is: 1.00\n"
     ]
    },
    {
     "data": {
      "image/png": "[encoded data removed]",
      "text/plain": [
       "<Figure size 600x400 with 1 Axes>"
      ]
     },
     "metadata": {},
     "output_type": "display_data"
    },
    {
     "data": {
      "text/html": [
       "<div>\n",
       "<style scoped>\n",
       "    .dataframe tbody tr th:only-of-type {\n",
       "        vertical-align: middle;\n",
       "    }\n",
       "\n",
       "    .dataframe tbody tr th {\n",
       "        vertical-align: top;\n",
       "    }\n",
       "\n",
       "    .dataframe thead th {\n",
       "        text-align: right;\n",
       "    }\n",
       "</style>\n",
       "<table border=\"1\" class=\"dataframe\">\n",
       "  <thead>\n",
       "    <tr style=\"text-align: right;\">\n",
       "      <th></th>\n",
       "      <th>Model</th>\n",
       "      <th>Accuracy</th>\n",
       "      <th>Precision</th>\n",
       "      <th>Recall</th>\n",
       "      <th>f1_score</th>\n",
       "    </tr>\n",
       "  </thead>\n",
       "  <tbody>\n",
       "    <tr>\n",
       "      <th>0</th>\n",
       "      <td>Decision Tree</td>\n",
       "      <td>1</td>\n",
       "      <td>1</td>\n",
       "      <td>1</td>\n",
       "      <td>1</td>\n",
       "    </tr>\n",
       "    <tr>\n",
       "      <th>1</th>\n",
       "      <td>Random Forest</td>\n",
       "      <td>1</td>\n",
       "      <td>1</td>\n",
       "      <td>1</td>\n",
       "      <td>1</td>\n",
       "    </tr>\n",
       "    <tr>\n",
       "      <th>2</th>\n",
       "      <td>LGBM</td>\n",
       "      <td>1</td>\n",
       "      <td>1</td>\n",
       "      <td>1</td>\n",
       "      <td>1</td>\n",
       "    </tr>\n",
       "    <tr>\n",
       "      <th>3</th>\n",
       "      <td>XGBOOST</td>\n",
       "      <td>1</td>\n",
       "      <td>1</td>\n",
       "      <td>1</td>\n",
       "      <td>1</td>\n",
       "    </tr>\n",
       "    <tr>\n",
       "      <th>4</th>\n",
       "      <td>Polynomial SVC</td>\n",
       "      <td>0</td>\n",
       "      <td>0</td>\n",
       "      <td>0</td>\n",
       "      <td>0</td>\n",
       "    </tr>\n",
       "    <tr>\n",
       "      <th>5</th>\n",
       "      <td>MLP</td>\n",
       "      <td>0</td>\n",
       "      <td>0</td>\n",
       "      <td>0</td>\n",
       "      <td>0</td>\n",
       "    </tr>\n",
       "    <tr>\n",
       "      <th>6</th>\n",
       "      <td>Ada Boost</td>\n",
       "      <td>1</td>\n",
       "      <td>1</td>\n",
       "      <td>1</td>\n",
       "      <td>1</td>\n",
       "    </tr>\n",
       "    <tr>\n",
       "      <th>7</th>\n",
       "      <td>Logistic Regression</td>\n",
       "      <td>0</td>\n",
       "      <td>0</td>\n",
       "      <td>0</td>\n",
       "      <td>0</td>\n",
       "    </tr>\n",
       "  </tbody>\n",
       "</table>\n",
       "</div>"
      ],
      "text/plain": [
       "                 Model  Accuracy  Precision  Recall  f1_score\n",
       "0        Decision Tree         1          1       1         1\n",
       "1        Random Forest         1          1       1         1\n",
       "2                 LGBM         1          1       1         1\n",
       "3              XGBOOST         1          1       1         1\n",
       "4       Polynomial SVC         0          0       0         0\n",
       "5                  MLP         0          0       0         0\n",
       "6            Ada Boost         1          1       1         1\n",
       "7  Logistic Regression         0          0       0         0"
      ]
     },
     "execution_count": 63,
     "metadata": {},
     "output_type": "execute_result"
    }
   ],
   "source": [
    "from sklearn.model_selection import train_test_split\n",
    "\n",
    "from xgboost import XGBClassifier\n",
    "\n",
    "import xgboost as xgb\n",
    "\n",
    "xgb_model = xgb.XGBClassifier(learning_rate=0.01,\n",
    "\n",
    "                            max_depth = 5,\n",
    "\n",
    "                            n_estimators = 100,\n",
    "\n",
    "                              scale_pos_weight=5)\n",
    "\n",
    "xgb_model.fit(X_train, y_train)\n",
    "\n",
    "\n",
    "print(\"Accuracy on training set: {:.3f}\".format(xgb_model.score(X_train, y_train)))\n",
    "\n",
    "#print(\"Accuracy on validation set: {:.3f}\".format(xgb_model.score(x_val, y_val)))\n",
    "\n",
    "xgb_predict=xgb_model.predict(X_test)\n",
    "\n",
    "\n",
    "from sklearn.metrics import classification_report,confusion_matrix\n",
    "\n",
    "print(confusion_matrix(y_test,xgb_predict))\n",
    "\n",
    "print(classification_report(y_test,xgb_predict))\n",
    "\n",
    "\n",
    "from sklearn.metrics import accuracy_score, f1_score, precision_score, recall_score, classification_report, confusion_matrix\n",
    "\n",
    "\n",
    "print(\"The precision score is: %.2f\" % precision_score( y_test, xgb_predict))\n",
    "\n",
    "print(\"The recall score is: %.2f\" % recall_score( y_test, xgb_predict))\n",
    "\n",
    "print(\"Accuracy score is: %.2f\" % accuracy_score( y_test, xgb_predict))\n",
    "\n",
    "print(\"The F1 score is: %.2f\" % f1_score( y_test, xgb_predict))\n",
    "\n",
    "\n",
    "cm = confusion_matrix( y_test , xgb_predict )\n",
    "\n",
    "plt.figure(figsize = (6,4))\n",
    "\n",
    "sns.heatmap(cm, annot=True, annot_kws={\"size\": 25}, fmt=\"d\", cmap=\"viridis\", cbar=False)\n",
    "\n",
    "plt.show()\n",
    "\n",
    "\n",
    "#Print metrics\n",
    "\n",
    "model_results('XGBOOST', y_test,xgb_predict)\n"
   ]
  },
  {
   "cell_type": "code",
   "execution_count": null,
   "id": "f4541400",
   "metadata": {},
   "outputs": [],
   "source": []
  },
  {
   "cell_type": "code",
   "execution_count": null,
   "id": "5ddcd338",
   "metadata": {},
   "outputs": [],
   "source": []
  },
  {
   "cell_type": "markdown",
   "id": "072f1837",
   "metadata": {},
   "source": [
    "### Model f: Multilayer Perceptrons (MLP)"
   ]
  },
  {
   "cell_type": "code",
   "execution_count": 66,
   "id": "b52e16c1",
   "metadata": {},
   "outputs": [],
   "source": [
    "from sklearn.neural_network import MLPClassifier"
   ]
  },
  {
   "cell_type": "code",
   "execution_count": 67,
   "id": "b4587ce7",
   "metadata": {},
   "outputs": [
    {
     "name": "stdout",
     "output_type": "stream",
     "text": [
      "              precision    recall  f1-score   support\n",
      "\n",
      "           0       1.00      1.00      1.00     21957\n",
      "           1       1.00      1.00      1.00     11686\n",
      "\n",
      "    accuracy                           1.00     33643\n",
      "   macro avg       1.00      1.00      1.00     33643\n",
      "weighted avg       1.00      1.00      1.00     33643\n",
      "\n"
     ]
    }
   ],
   "source": [
    "MLP_model = MLPClassifier(activation= 'relu', solver = 'adam', alpha = 1e-5, \n",
    "                    hidden_layer_sizes=(100,60,20), random_state=10, max_iter = 500)\n",
    "\n",
    "#fit model\n",
    "MLP_model.fit(X_train, y_train)\n",
    "\n",
    "mlp_pred = MLP_model.predict(X_test)\n",
    "\n",
    "#Classification Report\n",
    "print(classification_report(y_test,mlp_pred))"
   ]
  },
  {
   "cell_type": "code",
   "execution_count": 68,
   "id": "707fca8d",
   "metadata": {},
   "outputs": [
    {
     "name": "stdout",
     "output_type": "stream",
     "text": [
      "                 Model  Accuracy  Precision  Recall  f1_score\n",
      "0        Decision Tree         1          1       1         1\n",
      "1        Random Forest         1          1       1         1\n",
      "2                 LGBM         1          1       1         1\n",
      "3              XGBOOST         1          1       1         1\n",
      "4       Polynomial SVC         0          0       0         0\n",
      "5                  MLP         1          1       1         1\n",
      "6            Ada Boost         1          1       1         1\n",
      "7  Logistic Regression         0          0       0         0\n"
     ]
    }
   ],
   "source": [
    "#Print metrics\n",
    "\n",
    "print(model_results('MLP', y_test,mlp_pred))"
   ]
  },
  {
   "cell_type": "code",
   "execution_count": null,
   "id": "44a7ac0c",
   "metadata": {},
   "outputs": [],
   "source": []
  },
  {
   "cell_type": "markdown",
   "id": "9a28db8c",
   "metadata": {},
   "source": [
    "#### Model g: Polynomial Function"
   ]
  },
  {
   "cell_type": "code",
   "execution_count": 69,
   "id": "c0edafc8",
   "metadata": {},
   "outputs": [
    {
     "name": "stdout",
     "output_type": "stream",
     "text": [
      "              precision    recall  f1-score   support\n",
      "\n",
      "           0       1.00      1.00      1.00     21957\n",
      "           1       1.00      1.00      1.00     11686\n",
      "\n",
      "    accuracy                           1.00     33643\n",
      "   macro avg       1.00      1.00      1.00     33643\n",
      "weighted avg       1.00      1.00      1.00     33643\n",
      "\n"
     ]
    }
   ],
   "source": [
    "# Build svm model\n",
    "\n",
    "polyclf = SVC(kernel='poly', degree = 3, gamma=1,C=0.1)\n",
    "\n",
    "#Training model\n",
    "\n",
    "polyclf.fit(X_train, y_train)\n",
    "\n",
    "#Prediction\n",
    "\n",
    "poly_ypred = polyclf.predict(X_test)\n",
    "\n",
    "\n",
    "#Classification Report\n",
    "print(classification_report(y_test,poly_ypred))"
   ]
  },
  {
   "cell_type": "code",
   "execution_count": null,
   "id": "2c778e09",
   "metadata": {},
   "outputs": [],
   "source": []
  },
  {
   "cell_type": "code",
   "execution_count": 70,
   "id": "0a8fce27",
   "metadata": {},
   "outputs": [
    {
     "name": "stdout",
     "output_type": "stream",
     "text": [
      "Confusion matrix\n",
      "\n",
      " [[21957     0]\n",
      " [    0 11686]]\n",
      "\n",
      "True Positives(TP) =  21957\n",
      "\n",
      "True Negatives(TN) =  11686\n",
      "\n",
      "False Positives(FP) =  0\n",
      "\n",
      "False Negatives(FN) =  0\n"
     ]
    }
   ],
   "source": [
    "# view confusion-matrix\n",
    "\n",
    "# Print the Confusion Matrix and slice it into four pieces\n",
    "\n",
    "\n",
    "from sklearn.metrics import confusion_matrix\n",
    "\n",
    "cm_poly = confusion_matrix(y_test, poly_ypred)\n",
    "\n",
    "\n",
    "print('Confusion matrix\\n\\n', cm_poly)\n",
    "print('\\nTrue Positives(TP) = ', cm_poly[0,0])\n",
    "print('\\nTrue Negatives(TN) = ', cm_poly[1,1])\n",
    "print('\\nFalse Positives(FP) = ', cm_poly[0,1])\n",
    "print('\\nFalse Negatives(FN) = ', cm_poly[1,0])"
   ]
  },
  {
   "cell_type": "code",
   "execution_count": 71,
   "id": "8df69e63",
   "metadata": {},
   "outputs": [
    {
     "data": {
      "text/plain": [
       "<Axes: >"
      ]
     },
     "execution_count": 71,
     "metadata": {},
     "output_type": "execute_result"
    },
    {
     "data": {
      "image/png": "[encoded data removed]",
      "text/plain": [
       "<Figure size 640x480 with 2 Axes>"
      ]
     },
     "metadata": {},
     "output_type": "display_data"
    }
   ],
   "source": [
    "# visualize confusion matrix with seaborn heatmap\n",
    "\n",
    "\n",
    "cm_matrix_poly = pd.DataFrame(data=cm_poly, columns=['Actual Positive:1', 'Actual Negative:0'],\n",
    "\n",
    "                                 index=['Predict Positive:1', 'Predict Negative:0'])\n",
    "\n",
    "\n",
    "sns.heatmap(cm_matrix_poly, annot=True, fmt='d', cmap='YlGnBu')"
   ]
  },
  {
   "cell_type": "code",
   "execution_count": 72,
   "id": "6fdc2d8b",
   "metadata": {},
   "outputs": [
    {
     "name": "stdout",
     "output_type": "stream",
     "text": [
      "                 Model  Accuracy  Precision  Recall  f1_score\n",
      "0        Decision Tree         1          1       1         1\n",
      "1        Random Forest         1          1       1         1\n",
      "2                 LGBM         1          1       1         1\n",
      "3              XGBOOST         1          1       1         1\n",
      "4       Polynomial SVC         1          1       1         1\n",
      "5                  MLP         1          1       1         1\n",
      "6            Ada Boost         1          1       1         1\n",
      "7  Logistic Regression         0          0       0         0\n"
     ]
    }
   ],
   "source": [
    "print(model_results('Polynomial SVC', y_test,poly_ypred))"
   ]
  },
  {
   "cell_type": "code",
   "execution_count": null,
   "id": "36ad0891",
   "metadata": {},
   "outputs": [],
   "source": []
  },
  {
   "cell_type": "markdown",
   "id": "c828dfa4",
   "metadata": {},
   "source": [
    "#### Hyperparameter Tuning - SVM"
   ]
  },
  {
   "cell_type": "code",
   "execution_count": null,
   "id": "0e0dfab9",
   "metadata": {},
   "outputs": [],
   "source": [
    "#Import GridsearchCV\n",
    "\n",
    "from sklearn.model_selection import GridSearchCV"
   ]
  },
  {
   "cell_type": "code",
   "execution_count": null,
   "id": "2bc7a6f8",
   "metadata": {},
   "outputs": [],
   "source": [
    "# Dict with params for kernels, C and gamma\n",
    "\n",
    "param_grid_clf = {'C':[0.1,1,10,100], 'gamma':[1,0.1,0.01,0.001],'kernel':['rbf','poly','sigmoid']}"
   ]
  },
  {
   "cell_type": "code",
   "execution_count": null,
   "id": "052e2b54",
   "metadata": {},
   "outputs": [],
   "source": [
    "# Create a GridSearchCV object and fit it to training data\n",
    "\n",
    "#grid_clf = GridSearchCV(SVC(),param_grid_clf, refit=True,verbose=2)\n",
    "#grid_clf.fit(X_train, y_train)"
   ]
  },
  {
   "cell_type": "code",
   "execution_count": null,
   "id": "286d1d3a",
   "metadata": {},
   "outputs": [],
   "source": []
  },
  {
   "cell_type": "code",
   "execution_count": null,
   "id": "ef021e96",
   "metadata": {},
   "outputs": [],
   "source": [
    "# Find the best estimator\n",
    "\n",
    "print(grid_clf.best_estimator_)"
   ]
  },
  {
   "cell_type": "code",
   "execution_count": null,
   "id": "2a45384e",
   "metadata": {},
   "outputs": [],
   "source": []
  },
  {
   "cell_type": "code",
   "execution_count": null,
   "id": "c7476c27",
   "metadata": {},
   "outputs": [],
   "source": [
    "#create a confusion matrix and clf report\n",
    "\n",
    "grid_predictions_clf= grid_clf.predict(X_test)\n",
    "print(confusion_matrix(y_test,grid_predictions_clf))\n",
    "\n",
    "print('***********************************************')\n",
    "\n",
    "print(classification_report(y_test,grid_predictions_clf))"
   ]
  },
  {
   "cell_type": "code",
   "execution_count": null,
   "id": "9a590ee5",
   "metadata": {},
   "outputs": [],
   "source": []
  },
  {
   "cell_type": "markdown",
   "id": "1d5e70ee",
   "metadata": {},
   "source": [
    "#### Model h: Logistic Regression"
   ]
  },
  {
   "cell_type": "code",
   "execution_count": 73,
   "id": "b1f7a16c",
   "metadata": {},
   "outputs": [
    {
     "name": "stdout",
     "output_type": "stream",
     "text": [
      "confusion_matrix\n",
      "\n",
      " [[21957     0]\n",
      " [    0 11686]]\n",
      "\n",
      "True Positives (TP) =  21957\n",
      "\n",
      "True Negatives (TN) =  11686\n",
      "\n",
      "False Positives (FP) =  0\n",
      "\n",
      "False Negative (FN) =  0\n"
     ]
    }
   ],
   "source": [
    "from sklearn.linear_model import LogisticRegression\n",
    "from sklearn.metrics import confusion_matrix\n",
    "import matplotlib.pyplot as plt\n",
    "\n",
    "clf_log = LogisticRegression().fit(X_train, y_train)\n",
    "\n",
    "y_pred_lr = clf_log.predict(X_test)\n",
    "\n",
    "cm = confusion_matrix(y_test,y_pred_lr)\n",
    "print('confusion_matrix\\n\\n', cm)\n",
    "print('\\nTrue Positives (TP) = ', cm[0,0])\n",
    "print('\\nTrue Negatives (TN) = ', cm[1,1])\n",
    "print('\\nFalse Positives (FP) = ', cm[0,1])\n",
    "print('\\nFalse Negative (FN) = ', cm[0,1])"
   ]
  },
  {
   "cell_type": "code",
   "execution_count": 74,
   "id": "ab83d4c1",
   "metadata": {},
   "outputs": [
    {
     "name": "stdout",
     "output_type": "stream",
     "text": [
      "              precision    recall  f1-score   support\n",
      "\n",
      "           0       1.00      1.00      1.00     21957\n",
      "           1       1.00      1.00      1.00     11686\n",
      "\n",
      "    accuracy                           1.00     33643\n",
      "   macro avg       1.00      1.00      1.00     33643\n",
      "weighted avg       1.00      1.00      1.00     33643\n",
      "\n"
     ]
    }
   ],
   "source": [
    "#Classification Report\n",
    "print(classification_report(y_test,y_pred_lr))"
   ]
  },
  {
   "cell_type": "code",
   "execution_count": 75,
   "id": "eca2287f",
   "metadata": {},
   "outputs": [
    {
     "name": "stdout",
     "output_type": "stream",
     "text": [
      "                 Model  Accuracy  Precision  Recall  f1_score\n",
      "0        Decision Tree         1          1       1         1\n",
      "1        Random Forest         1          1       1         1\n",
      "2                 LGBM         1          1       1         1\n",
      "3              XGBOOST         1          1       1         1\n",
      "4       Polynomial SVC         1          1       1         1\n",
      "5                  MLP         1          1       1         1\n",
      "6            Ada Boost         1          1       1         1\n",
      "7  Logistic Regression         1          1       1         1\n"
     ]
    }
   ],
   "source": [
    "print(model_results('Logistic Regression', y_test,y_pred_lr))"
   ]
  },
  {
   "cell_type": "code",
   "execution_count": null,
   "id": "76422e98",
   "metadata": {},
   "outputs": [],
   "source": []
  },
  {
   "cell_type": "markdown",
   "id": "d466dade",
   "metadata": {},
   "source": [
    "#### Deployment"
   ]
  },
  {
   "cell_type": "code",
   "execution_count": 83,
   "id": "904eccee",
   "metadata": {},
   "outputs": [],
   "source": [
    "import pickle"
   ]
  },
  {
   "cell_type": "code",
   "execution_count": 84,
   "id": "ca4dc3e6",
   "metadata": {},
   "outputs": [
    {
     "name": "stdout",
     "output_type": "stream",
     "text": [
      "Model saved to ML_trained_model.pkl\n"
     ]
    }
   ],
   "source": [
    "# Save the model to a file using pickle\n",
    "filename = 'ML_trained_model.pkl'\n",
    "with open(filename, 'wb') as file:\n",
    "    pickle.dump(clf_lgbm, file)\n",
    "    print(f\"Model saved to {filename}\")"
   ]
  },
  {
   "cell_type": "code",
   "execution_count": null,
   "id": "3e2e5f12",
   "metadata": {},
   "outputs": [],
   "source": []
  },
  {
   "cell_type": "code",
   "execution_count": 85,
   "id": "a6059c33",
   "metadata": {},
   "outputs": [
    {
     "name": "stdout",
     "output_type": "stream",
     "text": [
      "LGBMClassifier(boosting_type='dart', learning_rate=0.05, max_depth=10,\n",
      "               num_leaves=100, objective='binary', random_state=42)\n"
     ]
    }
   ],
   "source": [
    "# Replace 'path_to_your_file.pkl' with the actual path to your PKL file\n",
    "file_path = 'ML_trained_model.pkl'\n",
    "\n",
    "# Open the file in binary mode and load the data\n",
    "with open(file_path, 'rb') as file:\n",
    "    data = pickle.load(file)\n",
    "\n",
    "# Now 'data' contains the deserialized Python object\n",
    "print(data)"
   ]
  },
  {
   "cell_type": "code",
   "execution_count": null,
   "id": "9f98a611",
   "metadata": {},
   "outputs": [],
   "source": []
  },
  {
   "cell_type": "code",
   "execution_count": 86,
   "id": "756cbf00",
   "metadata": {},
   "outputs": [
    {
     "name": "stdout",
     "output_type": "stream",
     "text": [
      "Requirement already satisfied: Flask in c:\\users\\pmmunyao\\appdata\\local\\anaconda3\\lib\\site-packages (2.2.2)\n",
      "Requirement already satisfied: Werkzeug>=2.2.2 in c:\\users\\pmmunyao\\appdata\\local\\anaconda3\\lib\\site-packages (from Flask) (2.2.3)\n",
      "Requirement already satisfied: Jinja2>=3.0 in c:\\users\\pmmunyao\\appdata\\local\\anaconda3\\lib\\site-packages (from Flask) (3.1.2)\n",
      "Requirement already satisfied: itsdangerous>=2.0 in c:\\users\\pmmunyao\\appdata\\local\\anaconda3\\lib\\site-packages (from Flask) (2.0.1)\n",
      "Requirement already satisfied: click>=8.0 in c:\\users\\pmmunyao\\appdata\\local\\anaconda3\\lib\\site-packages (from Flask) (8.0.4)\n",
      "Requirement already satisfied: colorama in c:\\users\\pmmunyao\\appdata\\local\\anaconda3\\lib\\site-packages (from click>=8.0->Flask) (0.4.6)\n",
      "Requirement already satisfied: MarkupSafe>=2.0 in c:\\users\\pmmunyao\\appdata\\local\\anaconda3\\lib\\site-packages (from Jinja2>=3.0->Flask) (2.1.1)\n"
     ]
    }
   ],
   "source": [
    "!pip install Flask"
   ]
  },
  {
   "cell_type": "code",
   "execution_count": 87,
   "id": "44f59854",
   "metadata": {},
   "outputs": [
    {
     "name": "stdout",
     "output_type": "stream",
     "text": [
      " * Serving Flask app '__main__'\n",
      " * Debug mode: on\n"
     ]
    },
    {
     "name": "stderr",
     "output_type": "stream",
     "text": [
      "WARNING: This is a development server. Do not use it in a production deployment. Use a production WSGI server instead.\n",
      " * Running on http://127.0.0.1:5000\n",
      "Press CTRL+C to quit\n",
      " * Restarting with watchdog (windowsapi)\n"
     ]
    },
    {
     "ename": "SystemExit",
     "evalue": "1",
     "output_type": "error",
     "traceback": [
      "An exception has occurred, use %tb to see the full traceback.\n",
      "\u001b[1;31mSystemExit\u001b[0m\u001b[1;31m:\u001b[0m 1\n"
     ]
    }
   ],
   "source": [
    "import pickle\n",
    "import pandas as pd\n",
    "from flask import Flask, request, jsonify\n",
    " \n",
    "# Initialize the Flask app\n",
    "app = Flask(__name__)\n",
    " \n",
    "# Load the pre-trained fraud detection model from the pickle file\n",
    "with open('ML_trained_model.pkl', 'rb') as model_file:\n",
    "    model = pickle.load(model_file)\n",
    " \n",
    "@app.route('/')\n",
    "def home():\n",
    "    return \"Fraud Detection API is running\"\n",
    " \n",
    "# API endpoint for fraud detection\n",
    "@app.route('/predict', methods=['POST'])\n",
    "def predict():\n",
    "    try:\n",
    "        # Get the JSON data from the request\n",
    "        data = request.json\n",
    "        \n",
    "        # Convert the data to a DataFrame (expected to be a JSON)\n",
    "        input_data = pd.DataFrame([data])\n",
    "        \n",
    "        # Perform predictions\n",
    "        prediction = model.predict(input_data)\n",
    " \n",
    "        # Return the prediction result as a JSON response\n",
    "        result = {'fraud_prediction': int(prediction[0])}\n",
    " \n",
    "        return jsonify(result)\n",
    " \n",
    "    except Exception as e:\n",
    "        return jsonify({'error': str(e)}), 400\n",
    " \n",
    "# Run the API\n",
    "if __name__ == '__main__':\n",
    "    app.run(debug=True)"
   ]
  },
  {
   "cell_type": "code",
   "execution_count": null,
   "id": "cc20c77e",
   "metadata": {},
   "outputs": [],
   "source": []
  }
 ],
 "metadata": {
  "kernelspec": {
   "display_name": "Python 3 (ipykernel)",
   "language": "python",
   "name": "python3"
  },
  "language_info": {
   "codemirror_mode": {
    "name": "ipython",
    "version": 3
   },
   "file_extension": ".py",
   "mimetype": "text/x-python",
   "name": "python",
   "nbconvert_exporter": "python",
   "pygments_lexer": "ipython3",
   "version": "3.11.4"
  }
 },
 "nbformat": 4,
 "nbformat_minor": 5
}
